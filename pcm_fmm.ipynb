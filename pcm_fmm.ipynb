{
 "cells": [
  {
   "cell_type": "code",
   "execution_count": 1,
   "metadata": {},
   "outputs": [
    {
     "name": "stdout",
     "output_type": "stream",
     "text": [
      "|| P2M + M2P - P2P ||  /  || P2P || = 1.2811025058542572e-07\n",
      "|| P2M(1) + M(1)2M(2) - P2M(2) ||  /  || P2M(2) || = 3.244277800823038e-16\n",
      "|| P2M(1) + M(1)TZ2M(3) - P2M(3) ||  /  || P2M(3) || = 1.8747588097912796e-16\n"
     ]
    }
   ],
   "source": [
    "# Check P2M, M2P and M2M\n",
    "import numpy as np\n",
    "from pcm_fmm import pcm_fmm\n",
    "p = 10\n",
    "ngrid = 6\n",
    "vscales, w, grid, vgrid = pcm_fmm.init_globals(p, p, ngrid)\n",
    "vscalesm = vscales[:(p+1)*(p+1)]\n",
    "src = np.array([0.5,0.4,0.3], dtype=np.float64)\n",
    "dst = np.array([1, 1.1, 2.2], dtype=np.float64)\n",
    "p2p = np.linalg.norm(src-dst)**-1\n",
    "sph1_c = np.zeros(3)\n",
    "sph1_r = 1\n",
    "sph1_coef = pcm_fmm.fmm_p2m(src-sph1_c, sph1_r, p, vscalesm)\n",
    "m2p = pcm_fmm.fmm_m2p(dst-sph1_c, sph1_r, p, vscalesm, sph1_coef)\n",
    "print(\"|| P2M + M2P - P2P ||  /  || P2P || =\", abs((m2p-p2p)/p2p))\n",
    "sph2_c = -np.ones(3)\n",
    "sph2_r = sph1_r + np.linalg.norm(sph2_c-sph1_c)\n",
    "sph2_coef = pcm_fmm.fmm_p2m(src-sph2_c, sph2_r, p, vscalesm)\n",
    "sph2_coef_m2m = np.zeros_like(sph2_coef)\n",
    "pcm_fmm.fmm_m2m_baseline(sph1_c-sph2_c, sph1_r, sph2_r, p, vscalesm, sph1_coef, sph2_coef_m2m)\n",
    "print(\"|| P2M(1) + M(1)2M(2) - P2M(2) ||  /  || P2M(2) || =\",\n",
    "      np.linalg.norm(sph2_coef_m2m-sph2_coef) / np.linalg.norm(sph2_coef))\n",
    "sph3_c = np.array([0, 0, -1])\n",
    "sph3_r = sph1_r + np.linalg.norm(sph3_c-sph1_c)\n",
    "sph3_coef = pcm_fmm.fmm_p2m(src-sph3_c, sph3_r, p, vscalesm)\n",
    "sph3_coef_m2m = np.zeros_like(sph3_coef)\n",
    "pcm_fmm.fmm_m2m_ztranslate((sph1_c-sph3_c)[2], sph1_r, sph3_r, p, vscalesm, sph1_coef, sph3_coef_m2m)\n",
    "print(\"|| P2M(1) + M(1)TZ2M(3) - P2M(3) ||  /  || P2M(3) || =\",\n",
    "      np.linalg.norm(sph3_coef_m2m-sph3_coef) / np.linalg.norm(sph3_coef))"
   ]
  },
  {
   "cell_type": "code",
   "execution_count": 2,
   "metadata": {},
   "outputs": [
    {
     "name": "stdout",
     "output_type": "stream",
     "text": [
      "|| P2M + M2L + L2P - P2P ||  /  || P2P || = 1.2813589395338697e-07\n",
      "|| L(1)2L(2) + L(2)2P - L(1)2P ||  /  || L(1)2P || = 0.0\n",
      "|| L(1)2L(3) + L(3)2P - L(1)2P ||  /  || L(1)2P || = 6.946662007989605e-16\n"
     ]
    }
   ],
   "source": [
    "# Check M2L, L2P and L2L\n",
    "import numpy as np\n",
    "from pcm_fmm import pcm_fmm\n",
    "pl = 10\n",
    "pm = 10\n",
    "ngrid = 6\n",
    "vscales, w, grid, vgrid = pcm_fmm.init_globals(pm, pl, ngrid)\n",
    "src = np.array([0.5,0.4,0.3], dtype=np.float64)\n",
    "dst = np.array([1, 1.1, 2.2], dtype=np.float64)\n",
    "p2p = np.linalg.norm(src-dst)**-1\n",
    "# Compute multipole coefficients\n",
    "sph1_c = np.zeros(3)\n",
    "sph1_r = 2\n",
    "sph1_coef = pcm_fmm.fmm_p2m(src-sph1_c, sph1_r, pm, vscales[:(pm+1)**2])\n",
    "# Compute local expansion\n",
    "sph2_c = np.array([1, 1, 2], dtype=np.float64)\n",
    "sph2_r = 1.3\n",
    "sph2_coef = np.zeros((pl+1)*(pl+1))\n",
    "pcm_fmm.fmm_m2l_baseline(sph1_c-sph2_c, sph1_r, sph2_r, pm, pl, vscales, sph1_coef, sph2_coef)\n",
    "l2p = pcm_fmm.fmm_l2p(dst-sph2_c, sph2_r, pl, vscales[:(pl+1)**2], sph2_coef)\n",
    "print(\"|| P2M + M2L + L2P - P2P ||  /  || P2P || =\", abs((l2p-p2p)/p2p))\n",
    "sph3_c = np.array([1, 1, 2], dtype=np.float64)\n",
    "sph3_r = 0.6\n",
    "sph3_coef = np.zeros_like(sph2_coef)\n",
    "pcm_fmm.fmm_l2l_baseline(sph2_c-sph3_c, sph2_r, sph3_r, pl, vscales[:(pl+1)**2], sph2_coef, sph3_coef)\n",
    "l2l2p = pcm_fmm.fmm_l2p(dst-sph3_c, sph3_r, pl, vscales[:(pl+1)**2], sph3_coef)\n",
    "print(\"|| L(1)2L(2) + L(2)2P - L(1)2P ||  /  || L(1)2P || =\", abs((l2l2p-l2p)/l2p))\n",
    "sph3_c = np.array([1.1, 1.1, 2.1], dtype=np.float64)\n",
    "sph3_r = 0.6\n",
    "sph3_coef = np.zeros_like(sph2_coef)\n",
    "pcm_fmm.fmm_l2l_baseline(sph2_c-sph3_c, sph2_r, sph3_r, pl, vscales[:(pl+1)**2], sph2_coef, sph3_coef)\n",
    "l2l2p = pcm_fmm.fmm_l2p(dst-sph3_c, sph3_r, pl, vscales[:(pl+1)**2], sph3_coef)\n",
    "print(\"|| L(1)2L(3) + L(3)2P - L(1)2P ||  /  || L(1)2P || =\", abs((l2l2p-l2p)/l2p))"
   ]
  },
  {
   "cell_type": "code",
   "execution_count": 2,
   "metadata": {
    "scrolled": false
   },
   "outputs": [
    {
     "name": "stdout",
     "output_type": "stream",
     "text": [
      "4.8213164346353355e-16\n",
      "5.1464408489691005e-16\n",
      "19 µs ± 278 ns per loop (mean ± std. dev. of 7 runs, 100000 loops each)\n",
      "17.3 µs ± 110 ns per loop (mean ± std. dev. of 7 runs, 100000 loops each)\n"
     ]
    }
   ],
   "source": [
    "# Check rotation-based M2M\n",
    "import numpy as np\n",
    "from pcm_fmm import pcm_fmm\n",
    "p = 10\n",
    "ngrid = 6\n",
    "vscales, w, grid, vgrid = pcm_fmm.init_globals(p, p, ngrid)\n",
    "vscalesm = vscales[:(p+1)*(p+1)]\n",
    "sph1_c = np.zeros(3)\n",
    "sph1_r = 1\n",
    "sph1_coef = np.ones_like(vscalesm)#np.random.rand((p+1)*(p+1))\n",
    "sph2_c = np.array([1, 10, 2], dtype=np.float64)\n",
    "sph2_r = sph1_r + np.linalg.norm(sph2_c-sph1_c)\n",
    "#sph2_r = 1\n",
    "sph2_coef_baseline = np.zeros_like(sph1_coef)\n",
    "sph2_coef_rotation = np.zeros_like(sph1_coef)\n",
    "pcm_fmm.fmm_m2m_baseline(sph1_c-sph2_c, sph1_r, sph2_r, p, vscalesm, sph1_coef, sph2_coef_baseline)\n",
    "tmp1 = sph1_c - sph2_c\n",
    "r = np.linalg.norm(tmp1)\n",
    "tmp1 = tmp1 / r\n",
    "nsign = -1 if tmp1[2] >= 0 else 1\n",
    "tmp2 = np.array([tmp1[1], tmp1[2]-nsign, tmp1[0]])\n",
    "tmp2 = tmp2 / np.linalg.norm(tmp2)\n",
    "tmp3 = np.eye(3) - 2*tmp2.reshape(-1, 1)@tmp2.reshape(1,-1)\n",
    "tmp4 = pcm_fmm.fmm_sph_rotate(p, tmp3, sph1_coef)\n",
    "pcm_fmm.fmm_m2m_ztranslate(nsign*r, sph1_r, sph2_r, p, vscalesm, tmp4, sph2_coef_rotation)\n",
    "sph2_coef_rotation2 = pcm_fmm.fmm_sph_rotate(p, tmp3, sph2_coef_rotation)\n",
    "tmp5 = sph2_coef_rotation2 - sph2_coef_baseline\n",
    "print(np.linalg.norm(tmp5) / np.linalg.norm(sph2_coef_baseline))\n",
    "#print(sph2_coef_rotation2)\n",
    "#print(sph2_coef_baseline)\n",
    "sph2_coef_reflection = np.zeros_like(sph2_coef_rotation2)\n",
    "pcm_fmm.fmm_m2m_reflection(sph1_c-sph2_c, sph1_r, sph2_r, p, vscalesm, sph1_coef, sph2_coef_reflection)\n",
    "#print(sph2_coef_reflection)\n",
    "#print(sph2_coef_baseline)\n",
    "tmp6 = sph2_coef_reflection - sph2_coef_baseline\n",
    "print(np.linalg.norm(tmp6) / np.linalg.norm(sph2_coef_baseline))\n",
    "%timeit pcm_fmm.fmm_m2m_baseline(sph1_c-sph2_c, sph1_r, sph2_r, p, vscalesm, sph1_coef, sph2_coef_baseline)\n",
    "%timeit pcm_fmm.fmm_m2m_reflection(sph1_c-sph2_c, sph1_r, sph2_r, p, vscalesm, sph1_coef, sph2_coef_reflection)"
   ]
  },
  {
   "cell_type": "code",
   "execution_count": 3,
   "metadata": {},
   "outputs": [
    {
     "data": {
      "text/plain": [
       "-0.5676639150000113"
      ]
     },
     "execution_count": 3,
     "metadata": {},
     "output_type": "execute_result"
    }
   ],
   "source": [
    "0.5*(-171.72339167+170.58806384)"
   ]
  },
  {
   "cell_type": "code",
   "execution_count": 8,
   "metadata": {},
   "outputs": [
    {
     "name": "stdout",
     "output_type": "stream",
     "text": [
      "nsph = 1413\n",
      "p = 6\n",
      "ngrid = 110\n"
     ]
    }
   ],
   "source": [
    "import numpy as np\n",
    "from time import time\n",
    "from pcm_fmm import pcm_fmm\n",
    "from mydx import mydx\n",
    "mydx.init()\n",
    "nbasis, ngrid, nsph = mydx.get_sizes()\n",
    "csph, rsph = mydx.get_spheres(nsph)\n",
    "ui = mydx.get_ui(nsph, ngrid)\n",
    "p = int(nbasis**0.5)-1\n",
    "print(\"nsph = {}\\np = {}\\nngrid = {}\".format(nsph, p, ngrid))\n",
    "vscales, w, grid, vgrid = pcm_fmm.init_globals(p, p, ngrid)\n",
    "ind = np.arange(1, nsph+1, dtype=np.int32)\n",
    "cluster, children, parent, cnode, rnode, snode = pcm_fmm.tree_init(csph, rsph, ind)\n",
    "#print(ind)\n",
    "#print(cluster)\n",
    "#print(children)\n",
    "np.random.seed(0)\n",
    "coef_sph = np.random.randn(nbasis, nsph)"
   ]
  },
  {
   "cell_type": "code",
   "execution_count": 5,
   "metadata": {},
   "outputs": [
    {
     "name": "stdout",
     "output_type": "stream",
     "text": [
      "ddPCM:  22.376887798309326  seconds\n"
     ]
    }
   ],
   "source": [
    "t0 = time()\n",
    "coef_ddpcm = mydx.ddpcm_dx(coef_sph)\n",
    "print(\"ddPCM: \", time()-t0, \" seconds\")"
   ]
  },
  {
   "cell_type": "code",
   "execution_count": 6,
   "metadata": {},
   "outputs": [
    {
     "name": "stdout",
     "output_type": "stream",
     "text": [
      "TREECODE:  11.47800898551941  seconds\n",
      "0.05281673994514162 541.4104754512564\n"
     ]
    }
   ],
   "source": [
    "t0 = time()\n",
    "coef_out = pcm_fmm.pcm_matvec_grid_treecode(csph, rsph, grid, w, vgrid, ui, p, vscales[:(p+1)*(p+1)], ind, \\\n",
    "                                   cluster, children, cnode, rnode, snode, coef_sph)\n",
    "print(\"TREECODE: \", time()-t0, \" seconds\")\n",
    "print(np.linalg.norm(coef_ddpcm-coef_out), np.linalg.norm(coef_ddpcm))"
   ]
  },
  {
   "cell_type": "code",
   "execution_count": 7,
   "metadata": {},
   "outputs": [
    {
     "name": "stdout",
     "output_type": "stream",
     "text": [
      "TREECODE2:  11.630457878112793  seconds\n",
      "0.16609022243495122 541.4104754512564\n"
     ]
    }
   ],
   "source": [
    "t0 = time()\n",
    "coef_out2 = pcm_fmm.pcm_matvec_grid_treecode2(csph, rsph, grid, w, vgrid, ui, p, p, vscales, ind, \\\n",
    "                                   cluster, children, cnode, rnode, coef_sph)\n",
    "print(\"TREECODE2: \", time()-t0, \" seconds\")\n",
    "print(np.linalg.norm(coef_ddpcm-coef_out2), np.linalg.norm(coef_ddpcm))"
   ]
  },
  {
   "cell_type": "code",
   "execution_count": 8,
   "metadata": {
    "scrolled": false
   },
   "outputs": [
    {
     "name": "stdout",
     "output_type": "stream",
     "text": [
      "FMM:  5.732115983963013  seconds\n",
      "0.22924418540253869 541.4104754512564\n"
     ]
    }
   ],
   "source": [
    "lwork = nsph*400\n",
    "iwork = np.zeros(1, dtype=np.int32)\n",
    "jwork = np.zeros(1, dtype=np.int32)\n",
    "work = np.zeros((3,lwork), dtype=np.int32, order='F')\n",
    "nnfar, nfar, nnnear, nnear = pcm_fmm.tree_get_farnear_work(children, cnode, rnode, iwork, jwork, work)\n",
    "if(iwork[0] != jwork[0]+1):\n",
    "    print(\"LWORK IS TOO SMALL\")\n",
    "else:\n",
    "    sfar, far, snear, near = pcm_fmm.tree_get_farnear(jwork[0], work, nnfar, nfar, nnnear, nnear)\n",
    "    #print(nnnear, nnear, snear, near)\n",
    "    #print(nnfar, nfar, sfar, far)\n",
    "    t0 = time()\n",
    "    coef_out_fmm = pcm_fmm.pcm_matvec_grid_fmm(csph, rsph, grid, w, vgrid, ui, p, p, vscales, ind, cluster, \\\n",
    "                                               children, cnode, rnode, sfar, far, snear, near, coef_sph)\n",
    "    print(\"FMM: \", time()-t0, \" seconds\")\n",
    "    print(np.linalg.norm(coef_ddpcm-coef_out_fmm), np.linalg.norm(coef_ddpcm))\n",
    "    #print(coef_out_fmm)\n",
    "    #print(coef_out_fmm-coef_out)\n",
    "    #print(coef_out)"
   ]
  },
  {
   "cell_type": "code",
   "execution_count": null,
   "metadata": {},
   "outputs": [],
   "source": []
  }
 ],
 "metadata": {
  "kernelspec": {
   "display_name": "Python 3",
   "language": "python",
   "name": "python3"
  },
  "language_info": {
   "codemirror_mode": {
    "name": "ipython",
    "version": 3
   },
   "file_extension": ".py",
   "mimetype": "text/x-python",
   "name": "python",
   "nbconvert_exporter": "python",
   "pygments_lexer": "ipython3",
   "version": "3.7.3"
  }
 },
 "nbformat": 4,
 "nbformat_minor": 2
}
