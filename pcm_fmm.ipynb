{
 "cells": [
  {
   "cell_type": "code",
   "execution_count": 1,
   "metadata": {},
   "outputs": [
    {
     "name": "stdout",
     "output_type": "stream",
     "text": [
      "1413 6 110\n"
     ]
    }
   ],
   "source": [
    "import numpy as np\n",
    "from time import time\n",
    "from pcm_fmm import pcm_fmm\n",
    "from mydx import mydx\n",
    "mydx.init()\n",
    "nbasis, ngrid, nsph = mydx.get_sizes()\n",
    "csph, rsph = mydx.get_spheres(nsph)\n",
    "ui = mydx.get_ui(nsph, ngrid)\n",
    "p = int(nbasis**0.5)-1\n",
    "print(nsph, p, ngrid)\n",
    "vscales, w, grid, vgrid = pcm_fmm.init_globals(p, ngrid)\n",
    "ind = np.arange(1, nsph+1, dtype=np.int32)\n",
    "cluster, children, parent, cnode, rnode, snode = pcm_fmm.tree_init(csph, rsph, ind)\n",
    "#print(\"csph\", csph)\n",
    "#print(\"rsph\", rsph)\n",
    "#print(cluster, children, parent, cnode, rnode, snode)\n",
    "#print(ind)"
   ]
  },
  {
   "cell_type": "code",
   "execution_count": 2,
   "metadata": {},
   "outputs": [
    {
     "name": "stdout",
     "output_type": "stream",
     "text": [
      "FMM:  12.53131890296936  seconds\n"
     ]
    }
   ],
   "source": [
    "coef_sph = np.random.randn(nbasis, nsph)\n",
    "t0 = time()\n",
    "coef_out = pcm_fmm.pcm_matvec_grid(csph, rsph, grid, w, vgrid, ui, p, vscales, ind, \\\n",
    "                                   cluster, children, cnode, rnode, snode, coef_sph)\n",
    "print(\"FMM: \", time()-t0, \" seconds\")\n",
    "#print(coef_out)"
   ]
  },
  {
   "cell_type": "code",
   "execution_count": null,
   "metadata": {},
   "outputs": [],
   "source": [
    "t0 = time()\n",
    "coef_ddpcm = mydx.ddpcm_dx(coef_sph)\n",
    "print(\"ddPCM: \", time()-t0, \" seconds\")\n",
    "#mat = mydx.gen_mat_ngrid(nbasis, ngrid, nsph)\n",
    "#print(np.tensordot(mat, coef_sph))\n",
    "#print(coef_ddpcm)\n",
    "print(np.linalg.norm(coef_ddpcm-coef_out), np.linalg.norm(coef_ddpcm))"
   ]
  },
  {
   "cell_type": "code",
   "execution_count": null,
   "metadata": {},
   "outputs": [],
   "source": []
  }
 ],
 "metadata": {
  "kernelspec": {
   "display_name": "Python 3",
   "language": "python",
   "name": "python3"
  },
  "language_info": {
   "codemirror_mode": {
    "name": "ipython",
    "version": 3
   },
   "file_extension": ".py",
   "mimetype": "text/x-python",
   "name": "python",
   "nbconvert_exporter": "python",
   "pygments_lexer": "ipython3",
   "version": "3.7.4"
  }
 },
 "nbformat": 4,
 "nbformat_minor": 2
}
