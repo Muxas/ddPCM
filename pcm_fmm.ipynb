{
 "cells": [
  {
   "cell_type": "code",
   "execution_count": 1,
   "metadata": {},
   "outputs": [
    {
     "name": "stdout",
     "output_type": "stream",
     "text": [
      "3 1 6\n",
      "[[1 1 2 2 3]\n",
      " [3 1 3 2 3]] [[2 0 4 0 0]\n",
      " [3 0 5 0 0]] [0 1 1 3 3] [[ 0.          0.          0.          0.          0.        ]\n",
      " [ 2.837225    4.32813423  2.16406711  0.          4.32813423]\n",
      " [-1.80568427  2.49974861 -3.74962292 -4.99949723 -2.49974861]] [12.11995181  7.56368551 10.06275979  7.56368551  7.56368551] [2 5 4]\n",
      "[1 3 2]\n"
     ]
    }
   ],
   "source": [
    "import numpy as np\n",
    "from pcm_fmm import pcm_fmm\n",
    "from mydx import mydx\n",
    "mydx.init()\n",
    "nbasis, ngrid, nsph = mydx.get_sizes()\n",
    "csph, rsph = mydx.get_spheres(nsph)\n",
    "ui = mydx.get_ui(nsph, ngrid)\n",
    "p = int(nbasis**0.5)-1\n",
    "print(nsph, p, ngrid)\n",
    "vscales, w, grid, vgrid = pcm_fmm.init_globals(p, ngrid)\n",
    "ind = np.arange(1, nsph+1, dtype=np.int32)\n",
    "cluster, children, parent, cnode, rnode, snode = pcm_fmm.tree_init(csph, rsph, ind)\n",
    "print(cluster, children, parent, cnode, rnode, snode)\n",
    "print(ind)"
   ]
  },
  {
   "cell_type": "code",
   "execution_count": 2,
   "metadata": {},
   "outputs": [],
   "source": [
    "coef_sph = np.random.randn(nbasis, nsph)\n",
    "coef_out = pcm_fmm.pcm_matvec_grid(csph, rsph, grid, w, vgrid, ui, p, vscales, ind, \\\n",
    "                                   cluster, children, cnode, rnode, snode, coef_sph)"
   ]
  },
  {
   "cell_type": "code",
   "execution_count": 3,
   "metadata": {
    "scrolled": true
   },
   "outputs": [
    {
     "name": "stdout",
     "output_type": "stream",
     "text": [
      "[[-2.75647949 -1.75648422  3.2899989 ]\n",
      " [ 1.06915271  2.40648651  1.66770676]\n",
      " [-0.80775221  0.         -0.96037205]\n",
      " [ 1.65651366 -1.71068427 -0.30718117]]\n"
     ]
    }
   ],
   "source": [
    "print(coef_out)"
   ]
  },
  {
   "cell_type": "code",
   "execution_count": 4,
   "metadata": {},
   "outputs": [
    {
     "name": "stdout",
     "output_type": "stream",
     "text": [
      "[[  0.39169776  -0.08595031  -0.64930023]\n",
      " [ -1.22705571   1.58573896  -0.34912125]\n",
      " [  0.64247773   3.24332608   6.25208387]\n",
      " [ -2.90975699 -10.12510669  -1.09656773]\n",
      " [ -0.4511764  -14.33395813 -12.84704014]\n",
      " [  7.42512758   3.8851278    0.01691631]]\n"
     ]
    }
   ],
   "source": [
    "coef_ddpcm = mydx.ddpcm_dx(coef_sph)\n",
    "mat = mydx.gen_mat_ngrid(nbasis, ngrid, nsph)\n",
    "print(np.tensordot(mat, coef_sph))"
   ]
  },
  {
   "cell_type": "code",
   "execution_count": 5,
   "metadata": {
    "scrolled": true
   },
   "outputs": [
    {
     "name": "stdout",
     "output_type": "stream",
     "text": [
      "[[-2.08457493  2.80231732 -1.22776278]\n",
      " [ 3.60897398  3.3189822   1.12214705]\n",
      " [-0.46170086  0.         -0.01731091]\n",
      " [ 1.65651366 -1.71068427 -0.30718117]]\n"
     ]
    }
   ],
   "source": [
    "print(coef_ddpcm)"
   ]
  },
  {
   "cell_type": "code",
   "execution_count": null,
   "metadata": {},
   "outputs": [],
   "source": []
  }
 ],
 "metadata": {
  "kernelspec": {
   "display_name": "Python 3",
   "language": "python",
   "name": "python3"
  },
  "language_info": {
   "codemirror_mode": {
    "name": "ipython",
    "version": 3
   },
   "file_extension": ".py",
   "mimetype": "text/x-python",
   "name": "python",
   "nbconvert_exporter": "python",
   "pygments_lexer": "ipython3",
   "version": "3.7.3"
  }
 },
 "nbformat": 4,
 "nbformat_minor": 2
}
