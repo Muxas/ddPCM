{
 "cells": [
  {
   "cell_type": "code",
   "execution_count": 1,
   "metadata": {},
   "outputs": [
    {
     "name": "stdout",
     "output_type": "stream",
     "text": [
      "|| P2M + M2P - P2P ||  /  || P2P || = 1.2811025058542572e-07\n",
      "|| P2M(1) + M(1)2M(2) - P2M(2) ||  /  || P2M(2) || = 3.244277800823038e-16\n"
     ]
    }
   ],
   "source": [
    "# Check P2M, M2P and M2M\n",
    "import numpy as np\n",
    "from pcm_fmm import pcm_fmm\n",
    "p = 10\n",
    "ngrid = 6\n",
    "vscales, w, grid, vgrid = pcm_fmm.init_globals(p, ngrid)\n",
    "src = np.array([0.5,0.4,0.3], dtype=np.float64)\n",
    "dst = np.array([1, 1.1, 2.2], dtype=np.float64)\n",
    "p2p = np.linalg.norm(src-dst)**-1\n",
    "sph1_c = np.zeros(3)\n",
    "sph1_r = 1\n",
    "sph1_coef = pcm_fmm.fmm_p2m(src-sph1_c, sph1_r, p, vscales)\n",
    "m2p = pcm_fmm.fmm_m2p(dst-sph1_c, sph1_r, p, vscales, sph1_coef)\n",
    "print(\"|| P2M + M2P - P2P ||  /  || P2P || =\", abs((m2p-p2p)/p2p))\n",
    "sph2_c = -np.ones(3)\n",
    "sph2_r = sph1_r + np.linalg.norm(sph2_c-sph1_c)\n",
    "sph2_coef = pcm_fmm.fmm_p2m(src-sph2_c, sph2_r, p, vscales)\n",
    "sph2_coef_m2m = np.zeros_like(sph2_coef)\n",
    "pcm_fmm.fmm_m2m_baseline(sph1_c-sph2_c, sph1_r, sph2_r, p, vscales, sph1_coef, sph2_coef_m2m)\n",
    "print(\"|| P2M(1) + M(1)2M(2) - P2M(2) ||  /  || P2M(2) || =\",\n",
    "      np.linalg.norm(sph2_coef_m2m-sph2_coef) / np.linalg.norm(sph2_coef))"
   ]
  },
  {
   "cell_type": "code",
   "execution_count": 2,
   "metadata": {},
   "outputs": [
    {
     "name": "stdout",
     "output_type": "stream",
     "text": [
      "|| P2M + M2L + L2P - P2P ||  /  || P2P || = 1.2813589395338697e-07\n",
      "|| L(1)2L(2) + L(2)2P - L(1)2P ||  /  || L(1)2P || = 0.0\n",
      "|| L(1)2L(3) + L(3)2P - L(1)2P ||  /  || L(1)2P || = 6.946662007989605e-16\n"
     ]
    }
   ],
   "source": [
    "# Check M2L, L2P and L2L\n",
    "import numpy as np\n",
    "from pcm_fmm import pcm_fmm\n",
    "pl = 10\n",
    "pm = 10\n",
    "ngrid = 6\n",
    "vscales, w, grid, vgrid = pcm_fmm.init_globals(pl+pm, ngrid)\n",
    "src = np.array([0.5,0.4,0.3], dtype=np.float64)\n",
    "dst = np.array([1, 1.1, 2.2], dtype=np.float64)\n",
    "p2p = np.linalg.norm(src-dst)**-1\n",
    "# Compute multipole coefficients\n",
    "sph1_c = np.zeros(3)\n",
    "sph1_r = 2\n",
    "sph1_coef = pcm_fmm.fmm_p2m(src-sph1_c, sph1_r, pm, vscales[:(pm+1)**2])\n",
    "# Compute local expansion\n",
    "sph2_c = np.array([1, 1, 2], dtype=np.float64)\n",
    "sph2_r = 1.3\n",
    "sph2_coef = np.zeros((pl+1)*(pl+1))\n",
    "pcm_fmm.fmm_m2l_baseline(sph1_c-sph2_c, sph1_r, sph2_r, pm, pl, vscales, sph1_coef, sph2_coef)\n",
    "l2p = pcm_fmm.fmm_l2p(dst-sph2_c, sph2_r, pl, vscales[:(pl+1)**2], sph2_coef)\n",
    "print(\"|| P2M + M2L + L2P - P2P ||  /  || P2P || =\", abs((l2p-p2p)/p2p))\n",
    "sph3_c = np.array([1, 1, 2], dtype=np.float64)\n",
    "sph3_r = 0.6\n",
    "sph3_coef = np.zeros_like(sph2_coef)\n",
    "pcm_fmm.fmm_l2l_baseline(sph2_c-sph3_c, sph2_r, sph3_r, pl, vscales[:(pl+1)**2], sph2_coef, sph3_coef)\n",
    "l2l2p = pcm_fmm.fmm_l2p(dst-sph3_c, sph3_r, pl, vscales[:(pl+1)**2], sph3_coef)\n",
    "print(\"|| L(1)2L(2) + L(2)2P - L(1)2P ||  /  || L(1)2P || =\", abs((l2l2p-l2p)/l2p))\n",
    "sph3_c = np.array([1.1, 1.1, 2.1], dtype=np.float64)\n",
    "sph3_r = 0.6\n",
    "sph3_coef = np.zeros_like(sph2_coef)\n",
    "pcm_fmm.fmm_l2l_baseline(sph2_c-sph3_c, sph2_r, sph3_r, pl, vscales[:(pl+1)**2], sph2_coef, sph3_coef)\n",
    "l2l2p = pcm_fmm.fmm_l2p(dst-sph3_c, sph3_r, pl, vscales[:(pl+1)**2], sph3_coef)\n",
    "print(\"|| L(1)2L(3) + L(3)2P - L(1)2P ||  /  || L(1)2P || =\", abs((l2l2p-l2p)/l2p))"
   ]
  },
  {
   "cell_type": "code",
   "execution_count": 1,
   "metadata": {},
   "outputs": [
    {
     "name": "stdout",
     "output_type": "stream",
     "text": [
      "nsph = 141\n",
      "p = 6\n",
      "ngrid = 110\n"
     ]
    }
   ],
   "source": [
    "import numpy as np\n",
    "from time import time\n",
    "from pcm_fmm import pcm_fmm\n",
    "from mydx import mydx\n",
    "mydx.init()\n",
    "nbasis, ngrid, nsph = mydx.get_sizes()\n",
    "csph, rsph = mydx.get_spheres(nsph)\n",
    "ui = mydx.get_ui(nsph, ngrid)\n",
    "p = int(nbasis**0.5)-1\n",
    "print(\"nsph = {}\\np = {}\\nngrid = {}\".format(nsph, p, ngrid))\n",
    "vscales, w, grid, vgrid = pcm_fmm.init_globals(p, ngrid)\n",
    "ind = np.arange(1, nsph+1, dtype=np.int32)\n",
    "cluster, children, parent, cnode, rnode, snode = pcm_fmm.tree_init(csph, rsph, ind)"
   ]
  },
  {
   "cell_type": "code",
   "execution_count": 2,
   "metadata": {},
   "outputs": [
    {
     "name": "stdout",
     "output_type": "stream",
     "text": [
      "FMM:  0.12881994247436523  seconds\n"
     ]
    }
   ],
   "source": [
    "coef_sph = np.random.randn(nbasis, nsph)\n",
    "t0 = time()\n",
    "coef_out = pcm_fmm.pcm_matvec_grid(csph, rsph, grid, w, vgrid, ui, p, vscales, ind, \\\n",
    "                                   cluster, children, cnode, rnode, snode, coef_sph)\n",
    "print(\"FMM: \", time()-t0, \" seconds\")"
   ]
  },
  {
   "cell_type": "code",
   "execution_count": 3,
   "metadata": {},
   "outputs": [
    {
     "name": "stdout",
     "output_type": "stream",
     "text": [
      "ddPCM:  0.1318988800048828  seconds\n",
      "0.18309355536774516 162.53429390276517\n"
     ]
    }
   ],
   "source": [
    "t0 = time()\n",
    "coef_ddpcm = mydx.ddpcm_dx(coef_sph)\n",
    "print(\"ddPCM: \", time()-t0, \" seconds\")\n",
    "print(np.linalg.norm(coef_ddpcm-coef_out), np.linalg.norm(coef_ddpcm))"
   ]
  },
  {
   "cell_type": "code",
   "execution_count": 6,
   "metadata": {},
   "outputs": [
    {
     "name": "stdout",
     "output_type": "stream",
     "text": [
      "[12418] [12417] [ 0  0  0  0  0  0  0  0  0  0  0  0  0  0  0  1  1  0  0  0  0  0  0  0\n",
      "  0  0  2  0  0  0  0 12 14  9 10 10  3  5  1  0  0  0  0  0  1  0  6  6\n",
      "  6  5  7  5  6  5  3  0  2  1  1  4  3  8  5 20 19 15 15 16 12 19 18  6\n",
      " 20 15 20 24 17 16 23 40 28 41 12 23 24 18 13 20 20 33 24 15 28 21 23 27\n",
      " 32 23 22 19 26 13 24 18 17 28 12 19 20 23 18 10 13 10 10 23 29  6 13 21\n",
      " 23  6 27 20 13 16  7 11 16 10 11 14 11 13 20 21 22 17 14 14 18 36 44 17\n",
      " 23 29 19 34 47 28 30 17 24 29 27 31 30 18 20 26 21 27 22 22 30 18 19 30\n",
      " 36 30 25 30 17 17 23 23 19 18 17 15 21 24 22 14  9 18 27 18 16 31 30 16\n",
      " 25 10 33 27  9 26 13 21 31 41 35 13 36 35 26 31 29 44 48 34 17 25 29 41\n",
      " 34 24 26 19 35 24 22 34 23  8 13 10  5 13  8 21 20  7 13 15 17 18 10 13\n",
      "  9  7  9  8  6 12 13 16 13 12 15 14 14 11  2  9  8 11  9 14 12 10  8 25\n",
      " 25 17 23 19 23 21 23 14 23 10 14 17 12 11 17  8 11] [ 0  0  0  0  0  0  0  0  0  0  0  0  0  0  0  0  0  0  0  0  0  0  0  0\n",
      "  0  0  0  0  0  0  0  0  0  0  0  0  0  0  0  0  0  0  0  0  0  0  0  0\n",
      "  0  0  0  0  0  0  0  0  0  0  0  0  0  0  0 16  3  3  3  6  7  4  4 10\n",
      " 24 11  8 30 37  9  8 24  9 23 13 41  8 12 13 11 11 29  9 12 36  4  4  3\n",
      "  2  5  5 35 28  6  3  7  7 24  7  3  3  3  5 12 10 10  9  7 33 14 12 35\n",
      "  6 11 31  5  6  7  9 17 12 18 17 14 17 27 20 25 24 17 20 22 18 20 12 32\n",
      " 29 31 27 23 27 34 32 37 30 31 30 33 34 29 48 50 33 25 28 26 36 40 39 25\n",
      " 38 24 29 20 19 27 21 13 17 30 21 35 29 38 40 32 37 40 31 42 31 35 36 21\n",
      " 23 25 13 21 27 28 27 39 33 41 47 44 44 47 36 33 19 40 36 40 35 29 25 41\n",
      " 30 22 20 24 23 38 40 42 35 22 17 14 19 15 20 13 14 29 23 27 25 24 32 31\n",
      " 35 21 19 24 26 24 23 22 25 16 13  6  6 15 24 13 14 11 13 10 12 18 20 23\n",
      " 23 23 17 27 23 19 17 18  9 34 30 19 24 19 13 28 25]\n"
     ]
    }
   ],
   "source": [
    "lwork = nsph*100\n",
    "iwork = np.zeros(1, dtype=np.int32)\n",
    "jwork = np.zeros(1, dtype=np.int32)\n",
    "work = np.zeros((3,lwork), dtype=np.int32, order='F')\n",
    "nnfar, nfar, nnnear, nnear = pcm_fmm.tree_get_m2l(children, cnode, rnode, iwork, jwork, work)\n",
    "print(iwork, jwork, nfar, nnear)\n",
    "#print(children)"
   ]
  },
  {
   "cell_type": "code",
   "execution_count": null,
   "metadata": {},
   "outputs": [],
   "source": []
  }
 ],
 "metadata": {
  "kernelspec": {
   "display_name": "Python 3",
   "language": "python",
   "name": "python3"
  },
  "language_info": {
   "codemirror_mode": {
    "name": "ipython",
    "version": 3
   },
   "file_extension": ".py",
   "mimetype": "text/x-python",
   "name": "python",
   "nbconvert_exporter": "python",
   "pygments_lexer": "ipython3",
   "version": "3.7.3"
  }
 },
 "nbformat": 4,
 "nbformat_minor": 2
}
