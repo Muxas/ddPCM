{
 "cells": [
  {
   "cell_type": "code",
   "execution_count": 1,
   "metadata": {},
   "outputs": [
    {
     "name": "stdout",
     "output_type": "stream",
     "text": [
      "|| P2M + M2P - P2P ||  /  || P2P || = 1.2811025058542572e-07\n",
      "|| P2M(1) + M(1)2M(2) - P2M(2) ||  /  || P2M(2) || = 3.244277800823038e-16\n",
      "|| P2M(1) + M(1)TZ2M(3) - P2M(3) ||  /  || P2M(3) || = 1.7620736005053075e-16\n",
      "|| P2M(1) + M(1)2M(4) - P2M(4) ||  /  || P2M(4) || = 7.08553113105978e-17\n"
     ]
    }
   ],
   "source": [
    "# Check P2M, M2P and M2M\n",
    "import numpy as np\n",
    "from pcm_fmm import pcm_fmm\n",
    "p = 10\n",
    "ngrid = 6\n",
    "vscales, w, grid, vgrid = pcm_fmm.init_globals(p, p, ngrid)\n",
    "vscalesm = vscales[:(p+1)*(p+1)]\n",
    "src = np.array([0.5,0.4,0.3], dtype=np.float64)\n",
    "dst = np.array([1, 1.1, 2.2], dtype=np.float64)\n",
    "p2p = np.linalg.norm(src-dst)**-1\n",
    "sph1_c = np.zeros(3)\n",
    "sph1_r = 1\n",
    "sph1_coef = pcm_fmm.fmm_p2m(src-sph1_c, sph1_r, p, vscalesm)\n",
    "m2p = pcm_fmm.fmm_m2p(dst-sph1_c, sph1_r, p, vscalesm, sph1_coef)\n",
    "print(\"|| P2M + M2P - P2P ||  /  || P2P || =\", abs((m2p-p2p)/p2p))\n",
    "sph2_c = -np.ones(3)\n",
    "sph2_r = sph1_r + np.linalg.norm(sph2_c-sph1_c)\n",
    "sph2_coef = pcm_fmm.fmm_p2m(src-sph2_c, sph2_r, p, vscalesm)\n",
    "sph2_coef_m2m = np.zeros_like(sph2_coef)\n",
    "pcm_fmm.fmm_m2m_baseline(sph1_c-sph2_c, sph1_r, sph2_r, p, vscalesm, sph1_coef, sph2_coef_m2m)\n",
    "print(\"|| P2M(1) + M(1)2M(2) - P2M(2) ||  /  || P2M(2) || =\",\n",
    "      np.linalg.norm(sph2_coef_m2m-sph2_coef) / np.linalg.norm(sph2_coef))\n",
    "sph3_c = np.array([0, 0, -1])\n",
    "sph3_r = sph1_r + np.linalg.norm(sph3_c-sph1_c)\n",
    "sph3_coef = pcm_fmm.fmm_p2m(src-sph3_c, sph3_r, p, vscalesm)\n",
    "sph3_coef_m2m = np.zeros_like(sph3_coef)\n",
    "pcm_fmm.fmm_m2m_ztranslate((sph1_c-sph3_c)[2], sph1_r, sph3_r, p, vscalesm, sph1_coef, sph3_coef_m2m)\n",
    "print(\"|| P2M(1) + M(1)TZ2M(3) - P2M(3) ||  /  || P2M(3) || =\",\n",
    "      np.linalg.norm(sph3_coef_m2m-sph3_coef) / np.linalg.norm(sph3_coef))\n",
    "sph4_c = sph1_c\n",
    "sph4_r = 3*sph1_r\n",
    "sph4_coef = pcm_fmm.fmm_p2m(src-sph4_c, sph4_r, p, vscalesm)\n",
    "sph4_coef_m2m = np.zeros_like(sph4_coef)\n",
    "pcm_fmm.fmm_m2m_baseline(sph1_c-sph4_c, sph1_r, sph4_r, p, vscalesm, sph1_coef, sph4_coef_m2m)\n",
    "print(\"|| P2M(1) + M(1)2M(4) - P2M(4) ||  /  || P2M(4) || =\",\n",
    "      np.linalg.norm(sph4_coef_m2m-sph4_coef) / np.linalg.norm(sph4_coef))"
   ]
  },
  {
   "cell_type": "code",
   "execution_count": 2,
   "metadata": {},
   "outputs": [
    {
     "name": "stdout",
     "output_type": "stream",
     "text": [
      "|| P2M + M2L + L2P - P2P ||  /  || P2P || = 1.2813589395338697e-07\n",
      "|| L(1)2L(2) + L(2)2P - L(1)2P ||  /  || L(1)2P || = 0.0\n",
      "|| L(1)2L(3) + L(3)2P - L(1)2P ||  /  || L(1)2P || = 6.946662007989605e-16\n"
     ]
    }
   ],
   "source": [
    "# Check M2L, L2P and L2L\n",
    "import numpy as np\n",
    "from pcm_fmm import pcm_fmm\n",
    "pl = 10\n",
    "pm = 10\n",
    "ngrid = 6\n",
    "vscales, w, grid, vgrid = pcm_fmm.init_globals(pm, pl, ngrid)\n",
    "src = np.array([0.5,0.4,0.3], dtype=np.float64)\n",
    "dst = np.array([1, 1.1, 2.2], dtype=np.float64)\n",
    "p2p = np.linalg.norm(src-dst)**-1\n",
    "# Compute multipole coefficients\n",
    "sph1_c = np.zeros(3)\n",
    "sph1_r = 2\n",
    "sph1_coef = pcm_fmm.fmm_p2m(src-sph1_c, sph1_r, pm, vscales[:(pm+1)**2])\n",
    "# Compute local expansion\n",
    "sph2_c = np.array([1, 1, 2], dtype=np.float64)\n",
    "sph2_r = 1.3\n",
    "sph2_coef = np.zeros((pl+1)*(pl+1))\n",
    "pcm_fmm.fmm_m2l_baseline(sph1_c-sph2_c, sph1_r, sph2_r, pm, pl, vscales, sph1_coef, sph2_coef)\n",
    "l2p = pcm_fmm.fmm_l2p(dst-sph2_c, sph2_r, pl, vscales[:(pl+1)**2], sph2_coef)\n",
    "print(\"|| P2M + M2L + L2P - P2P ||  /  || P2P || =\", abs((l2p-p2p)/p2p))\n",
    "sph3_c = np.array([1, 1, 2], dtype=np.float64)\n",
    "sph3_r = 0.6\n",
    "sph3_coef = np.zeros_like(sph2_coef)\n",
    "pcm_fmm.fmm_l2l_baseline(sph2_c-sph3_c, sph2_r, sph3_r, pl, vscales[:(pl+1)**2], sph2_coef, sph3_coef)\n",
    "l2l2p = pcm_fmm.fmm_l2p(dst-sph3_c, sph3_r, pl, vscales[:(pl+1)**2], sph3_coef)\n",
    "print(\"|| L(1)2L(2) + L(2)2P - L(1)2P ||  /  || L(1)2P || =\", abs((l2l2p-l2p)/l2p))\n",
    "sph3_c = np.array([1.1, 1.1, 2.1], dtype=np.float64)\n",
    "sph3_r = 0.6\n",
    "sph3_coef = np.zeros_like(sph2_coef)\n",
    "pcm_fmm.fmm_l2l_baseline(sph2_c-sph3_c, sph2_r, sph3_r, pl, vscales[:(pl+1)**2], sph2_coef, sph3_coef)\n",
    "l2l2p = pcm_fmm.fmm_l2p(dst-sph3_c, sph3_r, pl, vscales[:(pl+1)**2], sph3_coef)\n",
    "print(\"|| L(1)2L(3) + L(3)2P - L(1)2P ||  /  || L(1)2P || =\", abs((l2l2p-l2p)/l2p))"
   ]
  },
  {
   "cell_type": "code",
   "execution_count": 3,
   "metadata": {
    "scrolled": false
   },
   "outputs": [
    {
     "name": "stdout",
     "output_type": "stream",
     "text": [
      "fmm_m2m_reflection: 2.722502933198414e-16 3.872536026777169e-15\n",
      "fmm_m2m_reflection3: 2.722502933198414e-16 3.841367730193296e-15\n",
      "fmm_m2m_fast: 2.722502933198414e-16 1.519058154579394e-15\n",
      "Time for M2M baseline\n",
      "176 µs ± 577 ns per loop (mean ± std. dev. of 7 runs, 10000 loops each)\n",
      "Time for M2M reflection\n",
      "100 µs ± 390 ns per loop (mean ± std. dev. of 7 runs, 10000 loops each)\n",
      "Time for M2M reflection3\n",
      "58.2 µs ± 1.89 µs per loop (mean ± std. dev. of 7 runs, 10000 loops each)\n",
      "Time for M2M fast\n",
      "48.1 µs ± 560 ns per loop (mean ± std. dev. of 7 runs, 10000 loops each)\n",
      "Time for M2M fast (only along OZ axis)\n",
      "10.5 µs ± 60.8 ns per loop (mean ± std. dev. of 7 runs, 100000 loops each)\n",
      "Time for M2M ztranslate\n",
      "9.54 µs ± 44.6 ns per loop (mean ± std. dev. of 7 runs, 100000 loops each)\n"
     ]
    }
   ],
   "source": [
    "# Check rotation-based M2M\n",
    "import numpy as np\n",
    "from pcm_fmm import pcm_fmm\n",
    "p = 20\n",
    "ngrid = 6\n",
    "vscales, w, grid, vgrid = pcm_fmm.init_globals(p, p, ngrid)\n",
    "vscalesm = vscales[:(p+1)*(p+1)]\n",
    "sph1_c = np.zeros(3)\n",
    "sph1_r = 1\n",
    "sph1_coef = np.ones_like(vscalesm)\n",
    "sph2_c = np.array([0, 0, 10], dtype=np.float64)\n",
    "sph2_r = sph1_r + np.linalg.norm(sph2_c-sph1_c)\n",
    "sph3_c = np.array([-1, -2, -10], dtype=np.float64)\n",
    "sph3_r = sph1_r + np.linalg.norm(sph3_c-sph1_c)\n",
    "sph2_coef_baseline = np.zeros_like(sph1_coef)\n",
    "pcm_fmm.fmm_m2m_baseline(sph1_c-sph2_c, sph1_r, sph2_r, p, vscalesm, sph1_coef, sph2_coef_baseline)\n",
    "sph3_coef_baseline = np.zeros_like(sph1_coef)\n",
    "pcm_fmm.fmm_m2m_baseline(sph1_c-sph3_c, sph1_r, sph3_r, p, vscalesm, sph1_coef, sph3_coef_baseline)\n",
    "sph2_coef_reflection = np.zeros_like(sph1_coef)\n",
    "pcm_fmm.fmm_m2m_reflection(sph1_c-sph2_c, sph1_r, sph2_r, p, vscalesm, sph1_coef, sph2_coef_reflection)\n",
    "sph3_coef_reflection = np.zeros_like(sph1_coef)\n",
    "pcm_fmm.fmm_m2m_reflection(sph1_c-sph3_c, sph1_r, sph3_r, p, vscalesm, sph1_coef, sph3_coef_reflection)\n",
    "tmp2 = sph2_coef_reflection - sph2_coef_baseline\n",
    "tmp3 = sph3_coef_reflection - sph3_coef_baseline\n",
    "print(\"fmm_m2m_reflection:\", np.linalg.norm(tmp2) / np.linalg.norm(sph2_coef_baseline),\n",
    "      np.linalg.norm(tmp3) / np.linalg.norm(sph3_coef_baseline))\n",
    "sph2_coef_reflection3 = np.zeros_like(sph1_coef)\n",
    "pcm_fmm.fmm_m2m_reflection3(sph1_c-sph2_c, sph1_r, sph2_r, p, vscalesm, sph1_coef, sph2_coef_reflection3)\n",
    "sph3_coef_reflection3 = np.zeros_like(sph1_coef)\n",
    "pcm_fmm.fmm_m2m_reflection3(sph1_c-sph3_c, sph1_r, sph3_r, p, vscalesm, sph1_coef, sph3_coef_reflection3)\n",
    "tmp2 = sph2_coef_reflection3 - sph2_coef_baseline\n",
    "tmp3 = sph3_coef_reflection3 - sph3_coef_baseline\n",
    "print(\"fmm_m2m_reflection3:\", np.linalg.norm(tmp2) / np.linalg.norm(sph2_coef_baseline),\n",
    "      np.linalg.norm(tmp3) / np.linalg.norm(sph3_coef_baseline))\n",
    "sph2_coef_fast = np.zeros_like(sph1_coef)\n",
    "pcm_fmm.fmm_m2m_fast(sph1_c-sph2_c, sph1_r, sph2_r, p, vscalesm, sph1_coef, sph2_coef_fast)\n",
    "sph3_coef_fast = np.zeros_like(sph1_coef)\n",
    "pcm_fmm.fmm_m2m_fast(sph1_c-sph3_c, sph1_r, sph3_r, p, vscalesm, sph1_coef, sph3_coef_fast)\n",
    "tmp2 = sph2_coef_fast - sph2_coef_baseline\n",
    "tmp3 = sph3_coef_fast - sph3_coef_baseline\n",
    "print(\"fmm_m2m_fast:\", np.linalg.norm(tmp2) / np.linalg.norm(sph2_coef_baseline),\n",
    "      np.linalg.norm(tmp3) / np.linalg.norm(sph3_coef_baseline))\n",
    "print(\"Time for M2M baseline\")\n",
    "%timeit pcm_fmm.fmm_m2m_baseline(sph1_c-sph3_c, sph1_r, sph2_r, p, vscalesm, sph1_coef, sph2_coef_baseline)\n",
    "print(\"Time for M2M reflection\")\n",
    "%timeit pcm_fmm.fmm_m2m_reflection(sph1_c-sph3_c, sph1_r, sph2_r, p, vscalesm, sph1_coef, sph2_coef_reflection)\n",
    "print(\"Time for M2M reflection3\")\n",
    "%timeit pcm_fmm.fmm_m2m_reflection3(sph1_c-sph3_c, sph1_r, sph2_r, p, vscalesm, sph1_coef, sph2_coef_reflection3)\n",
    "print(\"Time for M2M fast\")\n",
    "%timeit pcm_fmm.fmm_m2m_fast(sph1_c-sph3_c, sph1_r, sph3_r, p, vscalesm, sph1_coef, sph2_coef_fast)\n",
    "print(\"Time for M2M fast (only along OZ axis)\")\n",
    "%timeit pcm_fmm.fmm_m2m_fast(sph1_c-sph2_c, sph1_r, sph2_r, p, vscalesm, sph1_coef, sph2_coef_fast)\n",
    "print(\"Time for M2M ztranslate\")\n",
    "%timeit pcm_fmm.fmm_m2m_ztranslate(1, sph1_r, sph3_r, p, vscalesm, sph1_coef, sph2_coef_fast)"
   ]
  },
  {
   "cell_type": "code",
   "execution_count": 4,
   "metadata": {},
   "outputs": [
    {
     "name": "stdout",
     "output_type": "stream",
     "text": [
      "fmm_m2l_fast: 6.098712141418411e-16 2.2722538450062307e-15\n",
      "Time for M2L baseline\n",
      "736 µs ± 4.41 µs per loop (mean ± std. dev. of 7 runs, 1000 loops each)\n",
      "Time for M2L fast\n",
      "52.5 µs ± 915 ns per loop (mean ± std. dev. of 7 runs, 10000 loops each)\n",
      "Time for M2L fast (only along OZ axis)\n",
      "14.2 µs ± 41.5 ns per loop (mean ± std. dev. of 7 runs, 100000 loops each)\n",
      "Time for M2L ztranslate\n",
      "13.4 µs ± 118 ns per loop (mean ± std. dev. of 7 runs, 100000 loops each)\n"
     ]
    }
   ],
   "source": [
    "# Check rotation-based M2L\n",
    "import numpy as np\n",
    "from pcm_fmm import pcm_fmm\n",
    "pm = 20\n",
    "pl = 20\n",
    "ngrid = 6\n",
    "vscales, w, grid, vgrid = pcm_fmm.init_globals(pm, pl, ngrid)\n",
    "sph1_c = np.zeros(3)\n",
    "sph1_r = 1\n",
    "sph1_coef = np.ones((pm+1)*(pm+1), dtype=np.float64)\n",
    "sph2_c = np.array([0, 0, -10], dtype=np.float64)\n",
    "sph2_r = sph1_r + np.linalg.norm(sph2_c-sph1_c)\n",
    "sph3_c = np.array([1, 2, 10], dtype=np.float64)\n",
    "sph3_r = sph1_r + np.linalg.norm(sph3_c-sph1_c)\n",
    "sph2_coef_baseline = np.zeros((pl+1)*(pl+1), dtype=np.float64)\n",
    "pcm_fmm.fmm_m2l_baseline(sph1_c-sph2_c, sph1_r, sph2_r, pm, pl, vscales, sph1_coef, sph2_coef_baseline)\n",
    "sph3_coef_baseline = np.zeros_like(sph2_coef_baseline)\n",
    "pcm_fmm.fmm_m2l_baseline(sph1_c-sph3_c, sph1_r, sph3_r, pm, pl, vscales, sph1_coef, sph3_coef_baseline)\n",
    "sph2_coef_fast = np.zeros_like(sph2_coef_baseline)\n",
    "pcm_fmm.fmm_m2l_fast(sph1_c-sph2_c, sph1_r, sph2_r, pm, pl, vscales, sph1_coef, sph2_coef_fast)\n",
    "sph3_coef_fast = np.zeros_like(sph2_coef_baseline)\n",
    "pcm_fmm.fmm_m2l_fast(sph1_c-sph3_c, sph1_r, sph3_r, pm, pl, vscales, sph1_coef, sph3_coef_fast)\n",
    "tmp2 = sph2_coef_fast - sph2_coef_baseline\n",
    "tmp3 = sph3_coef_fast - sph3_coef_baseline\n",
    "print(\"fmm_m2l_fast:\", np.linalg.norm(tmp2) / np.linalg.norm(sph2_coef_baseline),\n",
    "      np.linalg.norm(tmp3) / np.linalg.norm(sph3_coef_baseline))\n",
    "print(\"Time for M2L baseline\")\n",
    "%timeit pcm_fmm.fmm_m2l_baseline(sph1_c-sph3_c, sph1_r, sph3_r, pm, pl, vscales, sph1_coef, sph3_coef_baseline)\n",
    "print(\"Time for M2L fast\")\n",
    "%timeit pcm_fmm.fmm_m2l_fast(sph1_c-sph3_c, sph1_r, sph3_r, pm, pl, vscales, sph1_coef, sph3_coef_fast)\n",
    "print(\"Time for M2L fast (only along OZ axis)\")\n",
    "%timeit pcm_fmm.fmm_m2l_fast(sph1_c-sph2_c, sph1_r, sph2_r, pm, pl, vscales, sph1_coef, sph2_coef_fast)\n",
    "print(\"Time for M2L ztranslate\")\n",
    "%timeit pcm_fmm.fmm_m2l_ztranslate(1, sph1_r, sph2_r, pm, pl, vscales, sph1_coef, sph2_coef_fast)"
   ]
  },
  {
   "cell_type": "code",
   "execution_count": 5,
   "metadata": {},
   "outputs": [
    {
     "name": "stdout",
     "output_type": "stream",
     "text": [
      "fmm_l2l_fast: 1.9197264029805683e-16 8.636635476180166e-16\n",
      "Time for L2L baseline\n",
      "141 µs ± 588 ns per loop (mean ± std. dev. of 7 runs, 10000 loops each)\n",
      "Time for L2L fast\n",
      "46.5 µs ± 848 ns per loop (mean ± std. dev. of 7 runs, 10000 loops each)\n",
      "Time for L2L fast (only along OZ axis)\n",
      "8.67 µs ± 19.1 ns per loop (mean ± std. dev. of 7 runs, 100000 loops each)\n",
      "Time for L2L ztranslate\n",
      "7.8 µs ± 61.5 ns per loop (mean ± std. dev. of 7 runs, 100000 loops each)\n"
     ]
    }
   ],
   "source": [
    "# Check rotation-based L2L\n",
    "import numpy as np\n",
    "from pcm_fmm import pcm_fmm\n",
    "p = 20\n",
    "ngrid = 6\n",
    "vscales, w, grid, vgrid = pcm_fmm.init_globals(p, p, ngrid)\n",
    "vscalesl = vscales[:(p+1)*(p+1)]\n",
    "sph1_c = np.zeros(3)\n",
    "sph1_r = 1\n",
    "sph1_coef = np.ones((p+1)*(p+1), dtype=np.float64)\n",
    "sph2_c = np.array([0, 0, 10], dtype=np.float64)\n",
    "sph2_r = sph1_r + np.linalg.norm(sph2_c-sph1_c)\n",
    "sph3_c = np.array([1, 2, 10], dtype=np.float64)\n",
    "sph3_r = sph1_r + np.linalg.norm(sph3_c-sph1_c)\n",
    "sph2_coef_baseline = np.zeros((p+1)*(p+1), dtype=np.float64)\n",
    "pcm_fmm.fmm_l2l_baseline(sph1_c-sph2_c, sph1_r, sph2_r, p, vscalesl, sph1_coef, sph2_coef_baseline)\n",
    "sph3_coef_baseline = np.zeros_like(sph2_coef_baseline)\n",
    "pcm_fmm.fmm_l2l_baseline(sph1_c-sph3_c, sph1_r, sph3_r, p, vscalesl, sph1_coef, sph3_coef_baseline)\n",
    "sph2_coef_fast = np.zeros_like(sph2_coef_baseline)\n",
    "pcm_fmm.fmm_l2l_fast(sph1_c-sph2_c, sph1_r, sph2_r, p, vscalesl, sph1_coef, sph2_coef_fast)\n",
    "sph3_coef_fast = np.zeros_like(sph2_coef_baseline)\n",
    "pcm_fmm.fmm_l2l_fast(sph1_c-sph3_c, sph1_r, sph3_r, p, vscalesl, sph1_coef, sph3_coef_fast)\n",
    "tmp2 = sph2_coef_fast - sph2_coef_baseline\n",
    "tmp3 = sph3_coef_fast - sph3_coef_baseline\n",
    "print(\"fmm_l2l_fast:\", np.linalg.norm(tmp2) / np.linalg.norm(sph2_coef_baseline),\n",
    "      np.linalg.norm(tmp3) / np.linalg.norm(sph3_coef_baseline))\n",
    "print(\"Time for L2L baseline\")\n",
    "%timeit pcm_fmm.fmm_l2l_baseline(sph1_c-sph3_c, sph1_r, sph3_r, p, vscalesl, sph1_coef, sph3_coef_baseline)\n",
    "print(\"Time for L2L fast\")\n",
    "%timeit pcm_fmm.fmm_l2l_fast(sph1_c-sph3_c, sph1_r, sph3_r, p, vscalesl, sph1_coef, sph3_coef_fast)\n",
    "print(\"Time for L2L fast (only along OZ axis)\")\n",
    "%timeit pcm_fmm.fmm_l2l_fast(sph1_c-sph2_c, sph1_r, sph2_r, p, vscalesl, sph1_coef, sph2_coef_fast)\n",
    "print(\"Time for L2L ztranslate\")\n",
    "%timeit pcm_fmm.fmm_l2l_ztranslate(1, sph1_r, sph2_r, p, vscalesl, sph1_coef, sph2_coef_fast)"
   ]
  },
  {
   "cell_type": "code",
   "execution_count": 1,
   "metadata": {},
   "outputs": [
    {
     "name": "stdout",
     "output_type": "stream",
     "text": [
      "nsph = 1413\n",
      "p = 6\n",
      "ngrid = 110\n"
     ]
    }
   ],
   "source": [
    "import numpy as np\n",
    "from time import time\n",
    "from pcm_fmm import pcm_fmm\n",
    "from mydx import mydx\n",
    "mydx.init()\n",
    "nbasis, ngrid, nsph = mydx.get_sizes()\n",
    "csph, rsph = mydx.get_spheres(nsph)\n",
    "ui = mydx.get_ui(nsph, ngrid)\n",
    "p = int(nbasis**0.5)-1\n",
    "print(\"nsph = {}\\np = {}\\nngrid = {}\".format(nsph, p, ngrid))\n",
    "vscales, w, grid, vgrid = pcm_fmm.init_globals(p, p, ngrid)\n",
    "ind = np.arange(1, nsph+1, dtype=np.int32)\n",
    "cluster, children, parent, cnode, rnode, snode = pcm_fmm.btree1_init(csph, rsph, ind)\n",
    "height = pcm_fmm.tree_get_height(parent)\n",
    "n2 = pcm_fmm.tree_improve_get_size(children, height)\n",
    "#print(height, n2)\n",
    "cluster2, children2, parent2, cnode2, rnode2 = pcm_fmm.tree_improve(n2, height, cluster, children,\n",
    "                                                                    parent, cnode, rnode)\n",
    "#print(children.shape, children2.shape)\n",
    "#print(ind)\n",
    "#print(cluster)\n",
    "#print(children)\n",
    "np.random.seed(0)\n",
    "coef_sph = np.random.randn(nbasis, nsph)"
   ]
  },
  {
   "cell_type": "code",
   "execution_count": 2,
   "metadata": {},
   "outputs": [
    {
     "name": "stdout",
     "output_type": "stream",
     "text": [
      "ddPCM:  22.449885845184326  seconds\n"
     ]
    }
   ],
   "source": [
    "t0 = time()\n",
    "coef_ddpcm = mydx.ddpcm_dx(coef_sph)\n",
    "print(\"ddPCM: \", time()-t0, \" seconds\")"
   ]
  },
  {
   "cell_type": "code",
   "execution_count": 5,
   "metadata": {},
   "outputs": [
    {
     "name": "stdout",
     "output_type": "stream",
     "text": [
      "TREECODE:  11.970205068588257  seconds\n",
      "0.05281673994514162 541.4104754512564\n"
     ]
    }
   ],
   "source": [
    "t0 = time()\n",
    "coef_out = pcm_fmm.pcm_matvec_grid_treecode(csph, rsph, grid, w, vgrid, ui, p, vscales[:(p+1)*(p+1)], ind, \\\n",
    "                                   cluster, children, cnode, rnode, snode, coef_sph)\n",
    "print(\"TREECODE: \", time()-t0, \" seconds\")\n",
    "print(np.linalg.norm(coef_ddpcm-coef_out), np.linalg.norm(coef_ddpcm))"
   ]
  },
  {
   "cell_type": "code",
   "execution_count": 6,
   "metadata": {},
   "outputs": [
    {
     "name": "stdout",
     "output_type": "stream",
     "text": [
      "TREECODE2:  4.820950031280518  seconds\n",
      "0.16609022243495578 541.4104754512564\n"
     ]
    }
   ],
   "source": [
    "t0 = time()\n",
    "coef_out2 = pcm_fmm.pcm_matvec_grid_treecode2(csph, rsph, grid, w, vgrid, ui, p, p, vscales, ind, \\\n",
    "                                   cluster, children, cnode, rnode, coef_sph)\n",
    "print(\"TREECODE2: \", time()-t0, \" seconds\")\n",
    "print(np.linalg.norm(coef_ddpcm-coef_out2), np.linalg.norm(coef_ddpcm))"
   ]
  },
  {
   "cell_type": "code",
   "execution_count": 3,
   "metadata": {
    "scrolled": false
   },
   "outputs": [
    {
     "name": "stdout",
     "output_type": "stream",
     "text": [
      "162326 45299\n",
      "FMM baseline:  5.728753089904785  seconds 0.0004234202990096702\n",
      "FMM fast:  3.465308904647827  seconds 0.0004234202990096688\n"
     ]
    }
   ],
   "source": [
    "lwork = nsph*400\n",
    "iwork = np.zeros(1, dtype=np.int32)\n",
    "jwork = np.zeros(1, dtype=np.int32)\n",
    "work = np.zeros((3,lwork), dtype=np.int32, order='F')\n",
    "nnfar, nfar, nnnear, nnear = pcm_fmm.tree_get_farnear_work(children, cnode, rnode, iwork, jwork, work)\n",
    "print(nnfar, nnnear)\n",
    "if(iwork[0] != jwork[0]+1):\n",
    "    print(\"LWORK IS TOO SMALL\")\n",
    "else:\n",
    "    sfar, far, snear, near = pcm_fmm.tree_get_farnear(jwork[0], work, nnfar, nfar, nnnear, nnear)\n",
    "    #print(nnnear, nnear, snear, near)\n",
    "    #print(nnfar, nfar, sfar, far)\n",
    "    t0 = time()\n",
    "    coef_out_fmm = pcm_fmm.pcm_matvec_grid_fmm_baseline(csph, rsph, grid, w, vgrid, ui, p, p, vscales,\n",
    "                                                        ind, cluster, children, cnode, rnode, sfar, far,\n",
    "                                                        snear, near, coef_sph)\n",
    "    print(\"FMM baseline: \", time()-t0, \" seconds\",\n",
    "          np.linalg.norm(coef_ddpcm-coef_out_fmm)/np.linalg.norm(coef_ddpcm))\n",
    "    t0 = time()\n",
    "    coef_out_fmm = pcm_fmm.pcm_matvec_grid_fmm_fast(csph, rsph, grid, w, vgrid, ui, p, p, vscales,\n",
    "                                                        ind, cluster, children, cnode, rnode, sfar, far,\n",
    "                                                        snear, near, coef_sph)\n",
    "    print(\"FMM fast: \", time()-t0, \" seconds\",\n",
    "          np.linalg.norm(coef_ddpcm-coef_out_fmm)/np.linalg.norm(coef_ddpcm))\n",
    "    #print(coef_out_fmm)\n",
    "    #print(coef_out_fmm-coef_out)\n",
    "    #print(coef_out)"
   ]
  },
  {
   "cell_type": "code",
   "execution_count": 4,
   "metadata": {},
   "outputs": [
    {
     "name": "stdout",
     "output_type": "stream",
     "text": [
      "FMM fast (improved tree):  1.7502851486206055  seconds 0.9685380091602923\n"
     ]
    }
   ],
   "source": [
    "lwork = nsph*400\n",
    "iwork = np.zeros(1, dtype=np.int32)\n",
    "jwork = np.zeros(1, dtype=np.int32)\n",
    "work = np.zeros((3,lwork), dtype=np.int32, order='F')\n",
    "nnfar, nfar, nnnear, nnear = pcm_fmm.tree_get_farnear_work(children2, cnode2, rnode2, iwork, jwork, work)\n",
    "if(iwork[0] != jwork[0]+1):\n",
    "    print(\"LWORK IS TOO SMALL\")\n",
    "else:\n",
    "    sfar, far, snear, near = pcm_fmm.tree_get_farnear(jwork[0], work, nnfar, nfar, nnnear, nnear)\n",
    "    #print(nnnear, nnear, snear, near)\n",
    "    #print(nnfar, nfar, sfar, far)\n",
    "    t0 = time()\n",
    "    coef_out_fmm = pcm_fmm.pcm_matvec_grid_fmm_fast(csph, rsph, grid, w, vgrid, ui, p, p, vscales,\n",
    "                                                        ind, cluster2, children2, cnode2, rnode2, sfar, far,\n",
    "                                                        snear, near, coef_sph)\n",
    "    print(\"FMM fast (improved tree): \", time()-t0, \" seconds\",\n",
    "          np.linalg.norm(coef_ddpcm-coef_out_fmm)/np.linalg.norm(coef_ddpcm))\n",
    "    #print(coef_out_fmm)\n",
    "    #print(coef_out_fmm-coef_out)\n",
    "    #print(coef_out)"
   ]
  },
  {
   "cell_type": "code",
   "execution_count": null,
   "metadata": {},
   "outputs": [],
   "source": []
  }
 ],
 "metadata": {
  "kernelspec": {
   "display_name": "Python 3",
   "language": "python",
   "name": "python3"
  },
  "language_info": {
   "codemirror_mode": {
    "name": "ipython",
    "version": 3
   },
   "file_extension": ".py",
   "mimetype": "text/x-python",
   "name": "python",
   "nbconvert_exporter": "python",
   "pygments_lexer": "ipython3",
   "version": "3.7.4"
  }
 },
 "nbformat": 4,
 "nbformat_minor": 2
}
