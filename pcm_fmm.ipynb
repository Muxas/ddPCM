{
 "cells": [
  {
   "cell_type": "code",
   "execution_count": 1,
   "metadata": {},
   "outputs": [],
   "source": [
    "import numpy as np\n",
    "from pcm_fmm import pcm_fmm\n",
    "pcm_fmm.init_globals()"
   ]
  },
  {
   "cell_type": "code",
   "execution_count": 2,
   "metadata": {},
   "outputs": [
    {
     "name": "stdout",
     "output_type": "stream",
     "text": [
      "4.5 6.868041933477111\n",
      "0.10845884916465832 0.10845884916465832\n",
      "0.10845884916465826 0.10845884916465832\n",
      "1.110589505700254\n"
     ]
    }
   ],
   "source": [
    "lmax = 100\n",
    "sph1_c = np.array([0.0, 0, 0])\n",
    "sph1_r = 1.5\n",
    "sph2_c = np.array([2.0, 1, 2])\n",
    "sph2_r = sph1_r + np.linalg.norm(sph2_c)\n",
    "src1 = np.array([0.0, 0.8, 0.0])\n",
    "dst1 = np.array([4.4, 5.5, 6.6])\n",
    "print(sph2_r, np.linalg.norm(dst1-sph2_c))\n",
    "coef1_m = pcm_fmm.fmm_p2m(src1-sph1_c, sph1_r, lmax)\n",
    "coef2_m = pcm_fmm.fmm_p2m(src1-sph2_c, sph2_r, lmax)\n",
    "print(pcm_fmm.fmm_m2p(dst1-sph1_c, sph1_r, lmax, coef1_m), np.linalg.norm(src1-dst1)**-1)\n",
    "print(pcm_fmm.fmm_m2p(dst1-sph2_c, sph2_r, lmax, coef2_m), np.linalg.norm(src1-dst1)**-1)\n",
    "coef3_m = np.zeros_like(coef2_m)\n",
    "pcm_fmm.fmm_m2m_baseline(sph1_c-sph2_c, sph1_r, sph2_r, lmax, coef1_m, coef3_m)\n",
    "print(np.linalg.norm(coef2_m-coef3_m)/np.linalg.norm(coef2_m))"
   ]
  },
  {
   "cell_type": "code",
   "execution_count": null,
   "metadata": {},
   "outputs": [],
   "source": []
  }
 ],
 "metadata": {
  "kernelspec": {
   "display_name": "Python 3",
   "language": "python",
   "name": "python3"
  },
  "language_info": {
   "codemirror_mode": {
    "name": "ipython",
    "version": 3
   },
   "file_extension": ".py",
   "mimetype": "text/x-python",
   "name": "python",
   "nbconvert_exporter": "python",
   "pygments_lexer": "ipython3",
   "version": "3.7.3"
  }
 },
 "nbformat": 4,
 "nbformat_minor": 2
}
