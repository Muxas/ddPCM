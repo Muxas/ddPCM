{
 "cells": [
  {
   "cell_type": "code",
   "execution_count": 1,
   "metadata": {},
   "outputs": [],
   "source": [
    "import numpy as np\n",
    "from mydx import mydx, fmm_pcm\n",
    "#mydx.init()\n",
    "#nbasis, ngrid, nsph = mydx.get_sizes()\n",
    "#lmax = int(nbasis**0.5)-1\n",
    "#print(nbasis, lmax, ngrid)"
   ]
  },
  {
   "cell_type": "code",
   "execution_count": 2,
   "metadata": {
    "scrolled": false
   },
   "outputs": [
    {
     "name": "stdout",
     "output_type": "stream",
     "text": [
      "0.3127313958110473 0.31234752377721214\n",
      "0.3126262395925993 0.31234752377721214\n",
      "0.3127313958110473 0.31234752377721214\n",
      "0.3126262395925993 0.31234752377721214\n"
     ]
    }
   ],
   "source": [
    "# COMPLEX\n",
    "lmax = 2\n",
    "sph1_c = np.array([0.0, 0, 0])\n",
    "sph1_r = 1\n",
    "sph2_c = np.array([.0, 0, 0.5])\n",
    "sph2_r = 1\n",
    "src1 = np.array([0.0, 0.5, 0.0])\n",
    "dst1 = np.array([2., 2., 2.])\n",
    "coef1_m = fmm_pcm.p2m_complex(src1-sph1_c, lmax)\n",
    "coef2_m = fmm_pcm.p2m_complex(src1-sph2_c, lmax)\n",
    "print(fmm_pcm.m2p_complex(dst1-sph1_c, lmax, coef1_m), np.linalg.norm(src1-dst1)**-1)\n",
    "print(fmm_pcm.m2p_complex(dst1-sph2_c, lmax, coef2_m), np.linalg.norm(src1-dst1)**-1)\n",
    "coef1_m_normal = fmm_pcm.p2m_complex_normal(src1-sph1_c, lmax)\n",
    "coef2_m_normal = fmm_pcm.p2m_complex_normal(src1-sph2_c, lmax)\n",
    "print(fmm_pcm.m2p_complex_normal(dst1-sph1_c, lmax, coef1_m_normal), np.linalg.norm(src1-dst1)**-1)\n",
    "print(fmm_pcm.m2p_complex_normal(dst1-sph2_c, lmax, coef2_m_normal), np.linalg.norm(src1-dst1)**-1)"
   ]
  },
  {
   "cell_type": "code",
   "execution_count": 3,
   "metadata": {},
   "outputs": [
    {
     "name": "stdout",
     "output_type": "stream",
     "text": [
      "0.3254722774521031 0.32547227745205964\n",
      "0.32525817347924185 0.32547227745205964\n",
      "0.3254722774521031 0.32547227745205964\n",
      "0.3252581734792418 0.32547227745205964\n"
     ]
    }
   ],
   "source": [
    "# REAL\n",
    "lmax = 17\n",
    "sph1_c = np.array([0.0, 0, 0])\n",
    "sph1_r = 1\n",
    "sph2_c = np.array([1.0, 1, 1])\n",
    "sph2_r = 1\n",
    "src1 = np.array([0.0, 0.8, 0.0])\n",
    "dst1 = np.array([2., 2., 2.])\n",
    "coef1_m = fmm_pcm.p2m_real(src1-sph1_c, lmax)\n",
    "coef2_m = fmm_pcm.p2m_real(src1-sph2_c, lmax)\n",
    "print(fmm_pcm.m2p_real(dst1-sph1_c, lmax, coef1_m), np.linalg.norm(src1-dst1)**-1)\n",
    "print(fmm_pcm.m2p_real(dst1-sph2_c, lmax, coef2_m), np.linalg.norm(src1-dst1)**-1)\n",
    "coef1_m_normal = fmm_pcm.p2m_real_normal(src1-sph1_c, lmax)\n",
    "coef2_m_normal = fmm_pcm.p2m_real_normal(src1-sph2_c, lmax)\n",
    "print(fmm_pcm.m2p_real_normal(dst1-sph1_c, lmax, coef1_m_normal), np.linalg.norm(src1-dst1)**-1)\n",
    "print(fmm_pcm.m2p_real_normal(dst1-sph2_c, lmax, coef2_m_normal), np.linalg.norm(src1-dst1)**-1)\n",
    "#coef2_m_m2m = fmm_pcm.m2m_complex_translate_z(sph1_c[2]-sph2_c[2], lmax, coef1_m)\n",
    "#print(coef1_m)\n",
    "#print(coef2_m)\n",
    "#print(coef2_m_m2m)\n",
    "#print(fmm_pcm.m2p_complex_normal(dst1-sph2_c, lmax, coef2_m_m2m), np.linalg.norm(src1-dst1)**-1)"
   ]
  },
  {
   "cell_type": "code",
   "execution_count": 4,
   "metadata": {},
   "outputs": [
    {
     "name": "stdout",
     "output_type": "stream",
     "text": [
      "0.3254722774520597 0.32547227745205964\n",
      "0.3254718954621216 0.32547227745205964\n"
     ]
    }
   ],
   "source": [
    "# Normalized real spherical harmonics\n",
    "lmax = 60\n",
    "sph1_c = np.array([0.0, 0, 0])\n",
    "sph1_r = 1.5\n",
    "sph2_c = np.array([1.0, 1, 1])\n",
    "sph2_r = 2*3**0.5 + 1.5\n",
    "src1 = np.array([0.0, 0.8, 0.0])\n",
    "dst1 = np.array([2., 2., 2.])\n",
    "coef1_m = fmm_pcm.p2o(src1-sph1_c, sph1_r, lmax)\n",
    "coef2_m = fmm_pcm.p2o(src1-sph2_c, sph2_r, lmax)\n",
    "print(fmm_pcm.o2p(dst1-sph1_c, sph1_r, lmax, coef1_m), np.linalg.norm(src1-dst1)**-1)\n",
    "print(fmm_pcm.o2p(dst1-sph2_c, sph2_r, lmax, coef2_m), np.linalg.norm(src1-dst1)**-1)"
   ]
  },
  {
   "cell_type": "code",
   "execution_count": 5,
   "metadata": {},
   "outputs": [
    {
     "name": "stdout",
     "output_type": "stream",
     "text": [
      "263081.2814767092\n",
      "(1.0038839133473988e+64-2.9477305794458913e+62j) (-2.4863158971989657e+64+1.2087799001235904e+64j)\n",
      "1.5243667235568748e-09\n"
     ]
    }
   ],
   "source": [
    "# Compute M2M matrix by using P2M and M2P\n",
    "lmax = 40\n",
    "nparticles = 2000\n",
    "sph1_c = np.array([0, 0, 0], dtype=np.float64)\n",
    "sph1_r = 20\n",
    "sph2_c = np.array([10, 20, 30], dtype=np.float64)\n",
    "sph2_r = 20 + np.linalg.norm(sph2_c)\n",
    "particles = np.zeros((nparticles, 3), dtype=np.float64)\n",
    "mat1 = np.zeros((nparticles, (lmax+1)**2), dtype=np.complex128)\n",
    "mat2 = np.zeros((nparticles, (lmax+1)**2), dtype=np.complex128)\n",
    "np.random.seed(0)\n",
    "for i in range(nparticles):\n",
    "    tmp = np.random.randn(3)\n",
    "    tmp = tmp / np.linalg.norm(tmp)\n",
    "    particles[i] = sph1_c + 0.5 * sph1_r * tmp\n",
    "    mat1[i] = fmm_pcm.p2m_complex(particles[i]-sph1_c, lmax)\n",
    "    mat2[i] = fmm_pcm.p2m_complex(particles[i]-sph2_c, lmax)\n",
    "q, r = np.linalg.qr(mat1)\n",
    "#print(r)\n",
    "m2m = np.linalg.solve(r, q.T @ mat2).T\n",
    "print(np.linalg.norm(m2m @ mat1[0] - mat2[0]) / np.linalg.norm(mat2[0]))\n",
    "#print(m2m)\n",
    "print(np.max(m2m[1:]), np.min(m2m))\n",
    "mat3 = fmm_pcm.m2m_baseline(sph1_c-sph2_c, lmax, mat1[0])\n",
    "#print(m2m[10,0])\n",
    "#print(mat1[0][:10])\n",
    "#print(mat2[0][:10])\n",
    "#print(mat3[:10])\n",
    "print(np.linalg.norm(mat3-mat2[0]) / np.linalg.norm(mat2[0]))"
   ]
  },
  {
   "cell_type": "code",
   "execution_count": 12,
   "metadata": {
    "scrolled": false
   },
   "outputs": [
    {
     "name": "stdout",
     "output_type": "stream",
     "text": [
      "2.2180459422107636e-13\n",
      "0.6033278166540177 -0.9049917249810262\n",
      "5.193592288460715e-16\n",
      "6.494416613542663e-17\n"
     ]
    }
   ],
   "source": [
    "# Compute O2O matrix by using P2O and O2P\n",
    "lmax = 40\n",
    "nparticles = 2000\n",
    "sph1_c = np.array([0, 0, 0], dtype=np.float64)\n",
    "sph1_r = 20\n",
    "sph2_c = np.array([10, 20, 30], dtype=np.float64)\n",
    "sph2_r = sph1_r + np.linalg.norm(sph2_c)\n",
    "#sph2_r = 40\n",
    "particles = np.zeros((nparticles, 3), dtype=np.float64)\n",
    "mat1 = np.zeros((nparticles, (lmax+1)**2), dtype=np.float64)\n",
    "mat2 = np.zeros((nparticles, (lmax+1)**2), dtype=np.float64)\n",
    "np.random.seed(0)\n",
    "for i in range(nparticles):\n",
    "    tmp = np.random.randn(3)\n",
    "    tmp = tmp / np.linalg.norm(tmp)\n",
    "    particles[i] = sph1_c + 0.5 * sph1_r * tmp\n",
    "    mat1[i] = fmm_pcm.p2o(particles[i]-sph1_c, sph1_r, lmax)\n",
    "    mat2[i] = fmm_pcm.p2o(particles[i]-sph2_c, sph2_r, lmax)\n",
    "q, r = np.linalg.qr(mat1)\n",
    "#print(r)\n",
    "m2m = np.linalg.solve(r, q.T @ mat2).T\n",
    "print(np.linalg.norm(m2m @ mat1[0] - mat2[0]) / np.linalg.norm(mat2[0]))\n",
    "#print(m2m)\n",
    "print(np.max(m2m[1:]), np.min(m2m))\n",
    "mat3 = fmm_pcm.o2o_baseline(sph1_c-sph2_c, sph1_r, sph2_r, lmax, mat1[0])\n",
    "#print(m2m[10,0])\n",
    "#print(mat1[0])\n",
    "#print(mat2[0])\n",
    "#print(mat3)\n",
    "print(np.linalg.norm(mat3-mat2[0]) / np.linalg.norm(mat2[0]))\n",
    "mat4 = fmm_pcm.o2o_matrix(sph1_c-sph2_c, sph1_r, sph2_r, lmax) @ mat1[0]\n",
    "print(np.linalg.norm(mat4-mat3))"
   ]
  },
  {
   "cell_type": "code",
   "execution_count": 14,
   "metadata": {},
   "outputs": [
    {
     "name": "stdout",
     "output_type": "stream",
     "text": [
      "1.2704289489787255e-16\n",
      "0.3886717768963267 0.38868401841584166 0.38868401841584155\n"
     ]
    }
   ],
   "source": [
    "# CHECK O2O (scaled M2M)\n",
    "lmax = 40\n",
    "sph1_c = np.array([0, 0, 0], dtype=np.float64)\n",
    "sph1_r = 2\n",
    "sph2_c = np.array([1, 0.5, 0.5], dtype=np.float64)\n",
    "sph2_r = 4\n",
    "dst1 = np.array([4.2, 0., 2.])\n",
    "coef1_m = np.random.randn((lmax+1)**2)\n",
    "coef2_m = fmm_pcm.o2o_baseline(sph1_c-sph2_c, sph1_r, sph2_r, lmax, coef1_m)\n",
    "coef3_m = fmm_pcm.o2o_matrix(sph1_c-sph2_c, sph1_r, sph2_r, lmax) @ coef1_m\n",
    "print(np.linalg.norm(coef2_m-coef3_m)/np.linalg.norm(coef2_m))\n",
    "print(fmm_pcm.o2p(dst1-sph1_c, sph1_r, lmax, coef1_m), fmm_pcm.o2p(dst1-sph2_c, sph2_r, lmax, coef2_m),\n",
    "     fmm_pcm.o2p(dst1-sph2_c, sph2_r, lmax, coef3_m))\n",
    "#print(coef2_m, \"\\n\", coef3_m, \"\\n\", coef2_m-coef3_m)\n",
    "#print(coef1_m)"
   ]
  },
  {
   "cell_type": "code",
   "execution_count": 18,
   "metadata": {},
   "outputs": [
    {
     "name": "stdout",
     "output_type": "stream",
     "text": [
      "5.244986152219671e-14 11.602014094955397\n",
      "[6.32666345e+00 4.50338714e+00 4.50338714e+00 ... 2.18663133e-16\n",
      " 9.11764254e-17 4.21136845e-17]\n"
     ]
    }
   ],
   "source": [
    "# Check O2O matrix\n",
    "lmax = 36\n",
    "sph1_c = np.array([0, 0, 0], dtype=np.float64)\n",
    "sph1_r = 0.2\n",
    "sph2_c = np.array([1, 0.5, 0.2], dtype=np.float64)\n",
    "sph2_r = sph1_r + np.linalg.norm(sph2_c)\n",
    "sph3_c = np.array([0, 0, 0], dtype=np.float64)\n",
    "sph3_r = 20000\n",
    "sph4_c = np.array([100000, 50000, 20000], dtype=np.float64)\n",
    "sph4_r = sph3_r + np.linalg.norm(sph4_c)\n",
    "o2o_mat1 = fmm_pcm.o2o_matrix(sph1_c-sph2_c, sph1_r, sph2_r, lmax)\n",
    "o2o_mat2 = fmm_pcm.o2o_matrix(sph3_c-sph4_c, sph3_r, sph4_r, lmax)\n",
    "print(np.linalg.norm(o2o_mat1-o2o_mat2), np.linalg.norm(o2o_mat1))\n",
    "print(np.linalg.svd(o2o_mat1)[1])"
   ]
  },
  {
   "cell_type": "code",
   "execution_count": null,
   "metadata": {},
   "outputs": [],
   "source": []
  }
 ],
 "metadata": {
  "kernelspec": {
   "display_name": "Python 3",
   "language": "python",
   "name": "python3"
  },
  "language_info": {
   "codemirror_mode": {
    "name": "ipython",
    "version": 3
   },
   "file_extension": ".py",
   "mimetype": "text/x-python",
   "name": "python",
   "nbconvert_exporter": "python",
   "pygments_lexer": "ipython3",
   "version": "3.7.3"
  }
 },
 "nbformat": 4,
 "nbformat_minor": 2
}
