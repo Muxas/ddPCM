{
 "cells": [
  {
   "cell_type": "code",
   "execution_count": 1,
   "metadata": {},
   "outputs": [],
   "source": [
    "import numpy as np\n",
    "from fmm_pcm import fmm_pcm"
   ]
  },
  {
   "cell_type": "code",
   "execution_count": 2,
   "metadata": {
    "scrolled": false
   },
   "outputs": [
    {
     "name": "stdout",
     "output_type": "stream",
     "text": [
      "0.3127313958110473 0.31234752377721214\n",
      "0.3126262395925993 0.31234752377721214\n",
      "0.3127313958110473 0.31234752377721214\n",
      "0.3126262395925993 0.31234752377721214\n"
     ]
    }
   ],
   "source": [
    "# COMPLEX\n",
    "lmax = 2\n",
    "sph1_c = np.array([0.0, 0, 0])\n",
    "sph1_r = 1\n",
    "sph2_c = np.array([.0, 0, 0.5])\n",
    "sph2_r = 1\n",
    "src1 = np.array([0.0, 0.5, 0.0])\n",
    "dst1 = np.array([2., 2., 2.])\n",
    "coef1_m = fmm_pcm.p2m_complex(src1-sph1_c, lmax)\n",
    "coef2_m = fmm_pcm.p2m_complex(src1-sph2_c, lmax)\n",
    "print(fmm_pcm.m2p_complex(dst1-sph1_c, lmax, coef1_m), np.linalg.norm(src1-dst1)**-1)\n",
    "print(fmm_pcm.m2p_complex(dst1-sph2_c, lmax, coef2_m), np.linalg.norm(src1-dst1)**-1)\n",
    "coef1_m_normal = fmm_pcm.p2m_complex_normal(src1-sph1_c, lmax)\n",
    "coef2_m_normal = fmm_pcm.p2m_complex_normal(src1-sph2_c, lmax)\n",
    "print(fmm_pcm.m2p_complex_normal(dst1-sph1_c, lmax, coef1_m_normal), np.linalg.norm(src1-dst1)**-1)\n",
    "print(fmm_pcm.m2p_complex_normal(dst1-sph2_c, lmax, coef2_m_normal), np.linalg.norm(src1-dst1)**-1)"
   ]
  },
  {
   "cell_type": "code",
   "execution_count": 3,
   "metadata": {},
   "outputs": [
    {
     "name": "stdout",
     "output_type": "stream",
     "text": [
      "0.3254722774521031 0.32547227745205964\n",
      "0.32525817347924185 0.32547227745205964\n",
      "0.3254722774521031 0.32547227745205964\n",
      "0.3252581734792418 0.32547227745205964\n"
     ]
    }
   ],
   "source": [
    "# REAL\n",
    "lmax = 17\n",
    "sph1_c = np.array([0.0, 0, 0])\n",
    "sph1_r = 1\n",
    "sph2_c = np.array([1.0, 1, 1])\n",
    "sph2_r = 1\n",
    "src1 = np.array([0.0, 0.8, 0.0])\n",
    "dst1 = np.array([2., 2., 2.])\n",
    "coef1_m = fmm_pcm.p2m_real(src1-sph1_c, lmax)\n",
    "coef2_m = fmm_pcm.p2m_real(src1-sph2_c, lmax)\n",
    "print(fmm_pcm.m2p_real(dst1-sph1_c, lmax, coef1_m), np.linalg.norm(src1-dst1)**-1)\n",
    "print(fmm_pcm.m2p_real(dst1-sph2_c, lmax, coef2_m), np.linalg.norm(src1-dst1)**-1)\n",
    "coef1_m_normal = fmm_pcm.p2m_real_normal(src1-sph1_c, lmax)\n",
    "coef2_m_normal = fmm_pcm.p2m_real_normal(src1-sph2_c, lmax)\n",
    "print(fmm_pcm.m2p_real_normal(dst1-sph1_c, lmax, coef1_m_normal), np.linalg.norm(src1-dst1)**-1)\n",
    "print(fmm_pcm.m2p_real_normal(dst1-sph2_c, lmax, coef2_m_normal), np.linalg.norm(src1-dst1)**-1)\n",
    "#coef2_m_m2m = fmm_pcm.m2m_complex_translate_z(sph1_c[2]-sph2_c[2], lmax, coef1_m)\n",
    "#print(coef1_m)\n",
    "#print(coef2_m)\n",
    "#print(coef2_m_m2m)\n",
    "#print(fmm_pcm.m2p_complex_normal(dst1-sph2_c, lmax, coef2_m_m2m), np.linalg.norm(src1-dst1)**-1)"
   ]
  },
  {
   "cell_type": "code",
   "execution_count": 4,
   "metadata": {},
   "outputs": [
    {
     "name": "stdout",
     "output_type": "stream",
     "text": [
      "0.3254722774520597 0.32547227745205964\n",
      "0.3254718954621216 0.32547227745205964\n"
     ]
    }
   ],
   "source": [
    "# Normalized real spherical harmonics\n",
    "lmax = 60\n",
    "sph1_c = np.array([0.0, 0, 0])\n",
    "sph1_r = 1.5\n",
    "sph2_c = np.array([1.0, 1, 1])\n",
    "sph2_r = 2*3**0.5 + 1.5\n",
    "src1 = np.array([0.0, 0.8, 0.0])\n",
    "dst1 = np.array([2., 2., 2.])\n",
    "coef1_m = fmm_pcm.p2o(src1-sph1_c, sph1_r, lmax)\n",
    "coef2_m = fmm_pcm.p2o(src1-sph2_c, sph2_r, lmax)\n",
    "print(fmm_pcm.o2p(dst1-sph1_c, sph1_r, lmax, coef1_m), np.linalg.norm(src1-dst1)**-1)\n",
    "print(fmm_pcm.o2p(dst1-sph2_c, sph2_r, lmax, coef2_m), np.linalg.norm(src1-dst1)**-1)"
   ]
  },
  {
   "cell_type": "code",
   "execution_count": 5,
   "metadata": {},
   "outputs": [
    {
     "name": "stdout",
     "output_type": "stream",
     "text": [
      "0.00440888762644122\n",
      "(4.6457468943419874e+23-1.774461331471828e+23j) (-1.962162231360827e+24+1.9458403204634595e+23j)\n",
      "1.9165935371633602e-17\n",
      "6.730265436955804e+24\n"
     ]
    }
   ],
   "source": [
    "# Compute M2M matrix by using P2M and M2P\n",
    "lmax = 20\n",
    "nparticles = 2000\n",
    "sph1_c = np.array([0, 0, 0], dtype=np.float64)\n",
    "sph1_r = 0.020\n",
    "sph2_c = np.array([0.10, 0.020, 0.30], dtype=np.float64)\n",
    "sph2_r = sph1_r + np.linalg.norm(sph2_c)\n",
    "particles = np.zeros((nparticles, 3), dtype=np.float64)\n",
    "mat1 = np.zeros((nparticles, (lmax+1)**2), dtype=np.complex128)\n",
    "mat2 = np.zeros((nparticles, (lmax+1)**2), dtype=np.complex128)\n",
    "np.random.seed(0)\n",
    "for i in range(nparticles):\n",
    "    tmp = np.random.randn(3)\n",
    "    tmp = tmp / np.linalg.norm(tmp)\n",
    "    particles[i] = sph1_c + 0.5 * sph1_r * tmp\n",
    "    mat1[i] = fmm_pcm.p2m_complex(particles[i]-sph1_c, lmax)\n",
    "    mat2[i] = fmm_pcm.p2m_complex(particles[i]-sph2_c, lmax)\n",
    "q, r = np.linalg.qr(mat1)\n",
    "#print(r)\n",
    "m2m = np.linalg.solve(r, q.T @ mat2).T\n",
    "print(np.linalg.norm(m2m @ mat1[0] - mat2[0]) / np.linalg.norm(mat2[0]))\n",
    "#print(m2m)\n",
    "print(np.max(m2m[1:]), np.min(m2m))\n",
    "mat3 = fmm_pcm.m2m_baseline(sph1_c-sph2_c, lmax, mat1[0])\n",
    "#print(m2m[10,0])\n",
    "#print(mat1[0][:10])\n",
    "#print(mat2[0][:10])\n",
    "#print(mat3[:10])\n",
    "print(np.linalg.norm(mat3-mat2[0]) / np.linalg.norm(mat2[0]))\n",
    "#print(np.linalg.norm(m2m, ord=np.inf))\n",
    "print(np.max(np.linalg.norm(m2m, axis=1)))"
   ]
  },
  {
   "cell_type": "code",
   "execution_count": 6,
   "metadata": {
    "scrolled": false
   },
   "outputs": [
    {
     "name": "stdout",
     "output_type": "stream",
     "text": [
      "5.3804368179792985e-14\n",
      "0.6033278166540186 -0.9049917249810278\n",
      "5.192585567995216e-16\n",
      "6.49002077467652e-17\n"
     ]
    }
   ],
   "source": [
    "# Compute O2O matrix by using P2O and O2P\n",
    "lmax = 20\n",
    "nparticles = 2000\n",
    "sph1_c = np.array([0, 0, 0], dtype=np.float64)\n",
    "sph1_r = 20\n",
    "sph2_c = np.array([10, 20, 30], dtype=np.float64)\n",
    "sph2_r = sph1_r + np.linalg.norm(sph2_c)\n",
    "#sph2_r = 40\n",
    "particles = np.zeros((nparticles, 3), dtype=np.float64)\n",
    "mat1 = np.zeros((nparticles, (lmax+1)**2), dtype=np.float64)\n",
    "mat2 = np.zeros((nparticles, (lmax+1)**2), dtype=np.float64)\n",
    "np.random.seed(0)\n",
    "for i in range(nparticles):\n",
    "    tmp = np.random.randn(3)\n",
    "    tmp = tmp / np.linalg.norm(tmp)\n",
    "    particles[i] = sph1_c + 0.5 * sph1_r * tmp\n",
    "    mat1[i] = fmm_pcm.p2o(particles[i]-sph1_c, sph1_r, lmax)\n",
    "    mat2[i] = fmm_pcm.p2o(particles[i]-sph2_c, sph2_r, lmax)\n",
    "q, r = np.linalg.qr(mat1)\n",
    "#print(r)\n",
    "m2m = np.linalg.solve(r, q.T @ mat2).T\n",
    "print(np.linalg.norm(m2m @ mat1[0] - mat2[0]) / np.linalg.norm(mat2[0]))\n",
    "#print(m2m)\n",
    "print(np.max(m2m[1:]), np.min(m2m))\n",
    "mat3 = fmm_pcm.o2o_baseline(sph1_c-sph2_c, sph1_r, sph2_r, lmax, mat1[0])\n",
    "#print(m2m[10,0])\n",
    "#print(mat1[0])\n",
    "#print(mat2[0])\n",
    "#print(mat3)\n",
    "print(np.linalg.norm(mat3-mat2[0]) / np.linalg.norm(mat2[0]))\n",
    "mat4 = fmm_pcm.o2o_matrix(sph1_c-sph2_c, sph1_r, sph2_r, lmax) @ mat1[0]\n",
    "print(np.linalg.norm(mat4-mat3))"
   ]
  },
  {
   "cell_type": "code",
   "execution_count": 7,
   "metadata": {},
   "outputs": [
    {
     "name": "stdout",
     "output_type": "stream",
     "text": [
      "1.1627451061300556e-16\n",
      "1.4715870995839442 1.4732865861787003 1.4732865861787001\n"
     ]
    }
   ],
   "source": [
    "# CHECK O2O (scaled M2M)\n",
    "lmax = 20\n",
    "sph1_c = np.array([0, 0, 0], dtype=np.float64)\n",
    "sph1_r = 2\n",
    "sph2_c = np.array([1, 0.5, 0.5], dtype=np.float64)\n",
    "sph2_r = 4\n",
    "dst1 = np.array([4.2, 0., 2.])\n",
    "coef1_m = np.random.randn((lmax+1)**2)\n",
    "coef2_m = fmm_pcm.o2o_baseline(sph1_c-sph2_c, sph1_r, sph2_r, lmax, coef1_m)\n",
    "coef3_m = fmm_pcm.o2o_matrix(sph1_c-sph2_c, sph1_r, sph2_r, lmax) @ coef1_m\n",
    "print(np.linalg.norm(coef2_m-coef3_m)/np.linalg.norm(coef2_m))\n",
    "print(fmm_pcm.o2p(dst1-sph1_c, sph1_r, lmax, coef1_m), fmm_pcm.o2p(dst1-sph2_c, sph2_r, lmax, coef2_m),\n",
    "     fmm_pcm.o2p(dst1-sph2_c, sph2_r, lmax, coef3_m))\n",
    "#print(coef2_m, \"\\n\", coef3_m, \"\\n\", coef2_m-coef3_m)\n",
    "#print(coef1_m)"
   ]
  },
  {
   "cell_type": "code",
   "execution_count": 8,
   "metadata": {},
   "outputs": [
    {
     "name": "stdout",
     "output_type": "stream",
     "text": [
      "0.49152651110296247\n",
      "1.5428307405046444\n"
     ]
    }
   ],
   "source": [
    "# Check O2O matrix\n",
    "lmax = 20\n",
    "sph1_c = np.array([0, 0, 0], dtype=np.float64)\n",
    "sph1_r = 0.1\n",
    "sph2_c = np.array([1, 0.5, 0.2], dtype=np.float64)\n",
    "sph2_r = sph1_r + np.linalg.norm(sph2_c)\n",
    "sph3_c = np.array([0, 0, 0], dtype=np.float64)\n",
    "sph3_r = 20000\n",
    "sph4_c = np.array([100000, 50000, 20000], dtype=np.float64)\n",
    "sph4_r = sph3_r + np.linalg.norm(sph4_c)\n",
    "o2o_mat1 = fmm_pcm.o2o_matrix(sph1_c-sph2_c, sph1_r, sph2_r, lmax)\n",
    "o2o_mat2 = fmm_pcm.o2o_matrix(sph3_c-sph4_c, sph3_r, sph4_r, lmax)\n",
    "print(np.linalg.norm(o2o_mat1-o2o_mat2)/np.linalg.norm(o2o_mat1))\n",
    "#print(np.linalg.norm(o2o_mat2, ord=np.inf))\n",
    "print(np.max(np.linalg.norm(o2o_mat1, axis=1)))\n",
    "#print(np.linalg.svd(o2o_mat1)[1])"
   ]
  },
  {
   "cell_type": "code",
   "execution_count": 1,
   "metadata": {},
   "outputs": [
    {
     "name": "stdout",
     "output_type": "stream",
     "text": [
      "[[ 0.88226432 -0.28238354 -1.34111028 -0.14548271  0.87525898 -0.23991542\n",
      "  -0.66115756 -0.02194297]\n",
      " [ 0.14042726  0.06657212 -1.1842992   0.56339295 -0.27824539 -0.25238023\n",
      "   0.04239716  0.14704889]\n",
      " [-0.39827963  0.92436929  0.10764665  0.66546083 -1.67664766 -2.08317166\n",
      "   0.49508398 -0.20012997]]\n",
      "[1. 1. 1. 1. 1. 1. 1. 1.]\n",
      "[3 2 7 4 8 5 6 1]\n",
      "[[1 1 6 1 2 6 8 2 5 6 7 2 4 2 3]\n",
      " [8 5 8 1 5 7 8 4 5 6 7 3 4 2 3]]\n",
      "[[ 2  4  6  0  8 10  0 12  0  0  0 14  0  0  0]\n",
      " [ 3  5  7  0  9 11  0 13  0  0  0 15  0  0  0]]\n",
      "[ 0  1  1  2  2  3  3  5  5  6  6  8  8 12 12]\n",
      "[[-0.08321147 -0.60195417  0.49757765 -1.34111028 -0.2875415   0.31767178\n",
      "   0.88226432 -0.38573949 -0.02194297  0.87525898 -0.23991542 -0.47177055\n",
      "  -0.14548271 -0.28238354 -0.66115756]\n",
      " [-0.18510605 -0.22894385 -0.13602484 -1.1842992   0.17743287 -0.26531281\n",
      "   0.14042726  0.18866653  0.14704889 -0.27824539 -0.25238023  0.05448464\n",
      "   0.56339295  0.06657212  0.04239716]\n",
      " [-0.47836522  0.35177001 -1.4077923   0.10764665  0.45561206 -1.87990966\n",
      "  -0.39827963  0.69805524 -0.20012997 -1.67664766 -2.08317166  0.70972664\n",
      "   0.66546083  0.92436929  0.49508398]]\n",
      "[3.21220339 2.23233592 2.11513471 1.         1.70814079 1.59362124\n",
      " 1.         1.44632455 1.         1.         1.         1.28650483\n",
      " 1.         1.         1.        ]\n"
     ]
    }
   ],
   "source": [
    "import numpy as np\n",
    "from fmm_pcm import fmm_pcm\n",
    "# Check geometry division\n",
    "#np.random.seed(0)\n",
    "csph = np.random.randn(3, 8)\n",
    "rsph = np.ones(csph.shape[1])\n",
    "print(csph)\n",
    "print(rsph)\n",
    "ind = np.arange(1, csph.shape[1]+1, dtype=np.int32)\n",
    "cluster, children, parent = fmm_pcm.geometry_divide_hierarchically(csph, ind)\n",
    "print(ind)\n",
    "print(cluster)\n",
    "print(children)\n",
    "print(parent)\n",
    "ccluster, rcluster = fmm_pcm.geometry_get_radiuses(csph, rsph, ind, cluster, children)\n",
    "print(ccluster)\n",
    "print(rcluster)"
   ]
  },
  {
   "cell_type": "code",
   "execution_count": null,
   "metadata": {},
   "outputs": [],
   "source": []
  }
 ],
 "metadata": {
  "kernelspec": {
   "display_name": "Python 3",
   "language": "python",
   "name": "python3"
  },
  "language_info": {
   "codemirror_mode": {
    "name": "ipython",
    "version": 3
   },
   "file_extension": ".py",
   "mimetype": "text/x-python",
   "name": "python",
   "nbconvert_exporter": "python",
   "pygments_lexer": "ipython3",
   "version": "3.7.3"
  }
 },
 "nbformat": 4,
 "nbformat_minor": 2
}
