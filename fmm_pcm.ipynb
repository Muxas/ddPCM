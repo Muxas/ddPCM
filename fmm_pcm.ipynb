{
 "cells": [
  {
   "cell_type": "code",
   "execution_count": 1,
   "metadata": {},
   "outputs": [],
   "source": [
    "import numpy as np\n",
    "from mydx import mydx, fmm_pcm\n",
    "#mydx.init()\n",
    "#nbasis, ngrid, nsph = mydx.get_sizes()\n",
    "#lmax = int(nbasis**0.5)-1\n",
    "#print(nbasis, lmax, ngrid)"
   ]
  },
  {
   "cell_type": "code",
   "execution_count": 2,
   "metadata": {
    "scrolled": false
   },
   "outputs": [
    {
     "name": "stdout",
     "output_type": "stream",
     "text": [
      "0.3127313958110473 0.31234752377721214\n",
      "0.3126262395925993 0.31234752377721214\n",
      "0.3127313958110473 0.31234752377721214\n",
      "0.3126262395925993 0.31234752377721214\n"
     ]
    }
   ],
   "source": [
    "# COMPLEX\n",
    "lmax = 2\n",
    "sph1_c = np.array([0.0, 0, 0])\n",
    "sph1_r = 1\n",
    "sph2_c = np.array([.0, 0, 0.5])\n",
    "sph2_r = 1\n",
    "src1 = np.array([0.0, 0.5, 0.0])\n",
    "dst1 = np.array([2., 2., 2.])\n",
    "coef1_m = fmm_pcm.p2m_complex(src1-sph1_c, lmax)\n",
    "coef2_m = fmm_pcm.p2m_complex(src1-sph2_c, lmax)\n",
    "print(fmm_pcm.m2p_complex(dst1-sph1_c, lmax, coef1_m), np.linalg.norm(src1-dst1)**-1)\n",
    "print(fmm_pcm.m2p_complex(dst1-sph2_c, lmax, coef2_m), np.linalg.norm(src1-dst1)**-1)\n",
    "coef1_m_normal = fmm_pcm.p2m_complex_normal(src1-sph1_c, lmax)\n",
    "coef2_m_normal = fmm_pcm.p2m_complex_normal(src1-sph2_c, lmax)\n",
    "print(fmm_pcm.m2p_complex_normal(dst1-sph1_c, lmax, coef1_m_normal), np.linalg.norm(src1-dst1)**-1)\n",
    "print(fmm_pcm.m2p_complex_normal(dst1-sph2_c, lmax, coef2_m_normal), np.linalg.norm(src1-dst1)**-1)"
   ]
  },
  {
   "cell_type": "code",
   "execution_count": 3,
   "metadata": {},
   "outputs": [
    {
     "name": "stdout",
     "output_type": "stream",
     "text": [
      "0.3254722774521031 0.32547227745205964\n",
      "0.32525817347924185 0.32547227745205964\n",
      "0.3254722774521031 0.32547227745205964\n",
      "0.3252581734792418 0.32547227745205964\n"
     ]
    }
   ],
   "source": [
    "# REAL\n",
    "lmax = 17\n",
    "sph1_c = np.array([0.0, 0, 0])\n",
    "sph1_r = 1\n",
    "sph2_c = np.array([1.0, 1, 1])\n",
    "sph2_r = 1\n",
    "src1 = np.array([0.0, 0.8, 0.0])\n",
    "dst1 = np.array([2., 2., 2.])\n",
    "coef1_m = fmm_pcm.p2m_real(src1-sph1_c, lmax)\n",
    "coef2_m = fmm_pcm.p2m_real(src1-sph2_c, lmax)\n",
    "print(fmm_pcm.m2p_real(dst1-sph1_c, lmax, coef1_m), np.linalg.norm(src1-dst1)**-1)\n",
    "print(fmm_pcm.m2p_real(dst1-sph2_c, lmax, coef2_m), np.linalg.norm(src1-dst1)**-1)\n",
    "coef1_m_normal = fmm_pcm.p2m_real_normal(src1-sph1_c, lmax)\n",
    "coef2_m_normal = fmm_pcm.p2m_real_normal(src1-sph2_c, lmax)\n",
    "print(fmm_pcm.m2p_real_normal(dst1-sph1_c, lmax, coef1_m_normal), np.linalg.norm(src1-dst1)**-1)\n",
    "print(fmm_pcm.m2p_real_normal(dst1-sph2_c, lmax, coef2_m_normal), np.linalg.norm(src1-dst1)**-1)\n",
    "#coef2_m_m2m = fmm_pcm.m2m_complex_translate_z(sph1_c[2]-sph2_c[2], lmax, coef1_m)\n",
    "#print(coef1_m)\n",
    "#print(coef2_m)\n",
    "#print(coef2_m_m2m)\n",
    "#print(fmm_pcm.m2p_complex_normal(dst1-sph2_c, lmax, coef2_m_m2m), np.linalg.norm(src1-dst1)**-1)"
   ]
  },
  {
   "cell_type": "code",
   "execution_count": 4,
   "metadata": {},
   "outputs": [
    {
     "name": "stdout",
     "output_type": "stream",
     "text": [
      "0.3254722774520597 0.32547227745205964\n",
      "0.3254718954621216 0.32547227745205964\n"
     ]
    }
   ],
   "source": [
    "# Normalized real spherical harmonics\n",
    "lmax = 60\n",
    "sph1_c = np.array([0.0, 0, 0])\n",
    "sph1_r = 1.5\n",
    "sph2_c = np.array([1.0, 1, 1])\n",
    "sph2_r = 2*3**0.5 + 1.5\n",
    "src1 = np.array([0.0, 0.8, 0.0])\n",
    "dst1 = np.array([2., 2., 2.])\n",
    "coef1_m = fmm_pcm.p2o(src1-sph1_c, sph1_r, lmax)\n",
    "coef2_m = fmm_pcm.p2o(src1-sph2_c, sph2_r, lmax)\n",
    "print(fmm_pcm.o2p(dst1-sph1_c, sph1_r, lmax, coef1_m), np.linalg.norm(src1-dst1)**-1)\n",
    "print(fmm_pcm.o2p(dst1-sph2_c, sph2_r, lmax, coef2_m), np.linalg.norm(src1-dst1)**-1)"
   ]
  },
  {
   "cell_type": "code",
   "execution_count": 5,
   "metadata": {},
   "outputs": [
    {
     "name": "stdout",
     "output_type": "stream",
     "text": [
      "0.7281795944037622\n",
      "(30233060.017084885-7775.255468974637j) (-4052324.5977604627-8476290.180701818j)\n",
      "[  1.          +0.j           6.06498385  +1.37577947j\n",
      "   4.75882376  +0.j           6.06498385  -1.37577947j\n",
      "  42.73289161 +20.43873904j  49.99077818 +11.33989606j\n",
      " -16.0303946   +0.j          49.99077818 -11.33989606j\n",
      "  42.73289161 -20.43873904j 298.29085106+235.93137483j]\n",
      "[   1.           +0.j           -1.00608397  -12.76635615j\n",
      "  -25.24117624   +0.j           -1.00608397  +12.76635615j\n",
      " -198.36904188  +31.46131051j   43.98498461 +558.13232062j\n",
      "  473.12492353   +0.j           43.98498461 -558.13232062j\n",
      " -198.36904188  -31.46131051j  776.17453229+3228.51519689j]\n",
      "[   1.           +0.j           -1.00608397  -12.76635615j\n",
      "  -25.24117624   +0.j           -1.00608397  +12.76635615j\n",
      " -198.36904188  +31.46131051j   43.98498461 +558.13232062j\n",
      "  473.12492353   +0.j           43.98498461 -558.13232062j\n",
      " -198.36904188  -31.46131051j  776.17453229+3228.51519689j]\n",
      "1.1324289404036654e-15\n"
     ]
    }
   ],
   "source": [
    "# Compute M2M matrix by using P2M and M2P\n",
    "lmax = 5\n",
    "nparticles = 400\n",
    "sph1_c = np.array([0, 0, 0], dtype=np.float64)\n",
    "sph1_r = 20\n",
    "sph2_c = np.array([10, 20, 30], dtype=np.float64)\n",
    "sph2_r = 20 + np.linalg.norm(sph2_c)\n",
    "particles = np.zeros((nparticles, 3), dtype=np.float64)\n",
    "mat1 = np.zeros((nparticles, (lmax+1)**2), dtype=np.complex128)\n",
    "mat2 = np.zeros((nparticles, (lmax+1)**2), dtype=np.complex128)\n",
    "np.random.seed(0)\n",
    "for i in range(nparticles):\n",
    "    tmp = np.random.randn(3)\n",
    "    tmp = tmp / np.linalg.norm(tmp)\n",
    "    particles[i] = sph1_c + 0.5 * sph1_r * tmp\n",
    "    mat1[i] = fmm_pcm.p2m_complex(particles[i]-sph1_c, lmax)\n",
    "    mat2[i] = fmm_pcm.p2m_complex(particles[i]-sph2_c, lmax)\n",
    "q, r = np.linalg.qr(mat1)\n",
    "#print(r)\n",
    "m2m = np.linalg.solve(r, q.T @ mat2).T\n",
    "print(np.linalg.norm(m2m @ mat1[0] - mat2[0]) / np.linalg.norm(mat2[0]))\n",
    "#print(m2m)\n",
    "print(np.max(m2m[1:]), np.min(m2m))\n",
    "mat3 = fmm_pcm.m2m_baseline(sph1_c-sph2_c, lmax, mat1[0])\n",
    "#print(m2m[10,0])\n",
    "print(mat1[0][:10])\n",
    "print(mat2[0][:10])\n",
    "print(mat3[:10])\n",
    "print(np.linalg.norm(mat3-mat2[0]) / np.linalg.norm(mat2[0]))"
   ]
  },
  {
   "cell_type": "code",
   "execution_count": 6,
   "metadata": {
    "scrolled": false
   },
   "outputs": [
    {
     "name": "stdout",
     "output_type": "stream",
     "text": [
      "8.730319291772161e-16\n",
      "5.1234753829798 -6.873863542433764\n",
      "[ 0.28209479 -0.04753238  0.11625866  0.20954164 -0.04558156 -0.02528973\n",
      " -0.02527926  0.11148719  0.09530098 -0.03112826 -0.02869511 -0.00147082\n",
      " -0.0414597   0.00648396  0.05999513  0.03935583 -0.0182203  -0.02222008\n",
      " -0.00577564  0.00547747 -0.013216   -0.02414687  0.01207558  0.02809312\n",
      "  0.01469001]\n",
      "[ 0.28209479  0.44107014  0.11625866  0.20954164  0.4229678   0.23467254\n",
      " -0.27930679  0.11148719 -0.34468761 -0.14015899  0.26627228 -0.31866095\n",
      " -0.25601324 -0.15138803 -0.2169923  -0.57207977 -0.61150771 -0.10004879\n",
      " -0.24143745 -0.39806754  0.17575036 -0.18911216  0.19675374 -0.40836402\n",
      " -0.12602512]\n",
      "[ 0.28209479  0.44107014  0.11625866  0.20954164  0.4229678   0.23467254\n",
      " -0.27930679  0.11148719 -0.34468761 -0.14015899  0.26627228 -0.40758588\n",
      " -0.25601324 -0.15138803 -0.2169923  -0.57207977 -0.61150771 -0.10004879\n",
      " -0.24143745 -0.49098793  0.17575036 -0.18911216  0.19675374 -0.40836402\n",
      " -0.12602512]\n",
      "0.08446928042951221\n"
     ]
    }
   ],
   "source": [
    "# Compute M2M matrix by using P2M and M2P\n",
    "lmax = 4\n",
    "nparticles = 40\n",
    "sph1_c = np.array([0, 0, 0], dtype=np.float64)\n",
    "sph1_r = 1\n",
    "sph2_c = np.array([0, 1, 0], dtype=np.float64)\n",
    "sph2_r = 1\n",
    "particles = np.zeros((nparticles, 3), dtype=np.float64)\n",
    "mat1 = np.zeros((nparticles, (lmax+1)**2), dtype=np.float64)\n",
    "mat2 = np.zeros((nparticles, (lmax+1)**2), dtype=np.float64)\n",
    "np.random.seed(0)\n",
    "for i in range(nparticles):\n",
    "    tmp = np.random.randn(3)\n",
    "    tmp = tmp / np.linalg.norm(tmp)\n",
    "    particles[i] = sph1_c + 0.5 * sph1_r * tmp\n",
    "    mat1[i] = fmm_pcm.p2o(particles[i]-sph1_c, sph1_r, lmax)\n",
    "    mat2[i] = fmm_pcm.p2o(particles[i]-sph2_c, sph2_r, lmax)\n",
    "q, r = np.linalg.qr(mat1)\n",
    "#print(r)\n",
    "m2m = np.linalg.solve(r, q.T @ mat2).T\n",
    "print(np.linalg.norm(m2m @ mat1[0] - mat2[0]) / np.linalg.norm(mat2[0]))\n",
    "#print(m2m)\n",
    "print(np.max(m2m[1:]), np.min(m2m))\n",
    "mat3 = fmm_pcm.o2o_baseline(sph1_c-sph2_c, sph1_r, sph2_r, lmax, mat1[0])\n",
    "#print(m2m[10,0])\n",
    "print(mat1[0])\n",
    "print(mat2[0])\n",
    "print(mat3)\n",
    "print(np.linalg.norm(mat3-mat2[0]) / np.linalg.norm(mat2[0]))"
   ]
  },
  {
   "cell_type": "code",
   "execution_count": 8,
   "metadata": {},
   "outputs": [
    {
     "data": {
      "text/plain": [
       "-0.31866094728593397"
      ]
     },
     "execution_count": 8,
     "metadata": {},
     "output_type": "execute_result"
    }
   ],
   "source": [
    "-1.4708203841070717E-003 + 7.9734518859446102E-002 - 7.3266245177832146E-002 + \\\n",
    "    8.8924932587349959E-002 + 4.4462466293674993E-002 - 0.45704579946446583"
   ]
  },
  {
   "cell_type": "code",
   "execution_count": 7,
   "metadata": {},
   "outputs": [
    {
     "name": "stdout",
     "output_type": "stream",
     "text": [
      "0.6680774195654204 0.5754994768527079\n"
     ]
    }
   ],
   "source": [
    "# CHECK O2O (scaled M2M)\n",
    "lmax = 10\n",
    "sph1_c = np.array([0, 0, 0], dtype=np.float64)\n",
    "sph1_r = 2\n",
    "sph2_c = np.array([0, 2, 0], dtype=np.float64)\n",
    "sph2_r = 4\n",
    "dst1 = np.array([4.2, 0., 2.])\n",
    "coef1_m = np.random.randn((lmax+1)**2)\n",
    "coef2_m = fmm_pcm.o2o_baseline(sph1_c-sph2_c, sph1_r, sph2_r, lmax, coef1_m)\n",
    "print(fmm_pcm.o2p(dst1-sph1_c, sph1_r, lmax, coef1_m), fmm_pcm.o2p(dst1-sph2_c, sph2_r, lmax, coef2_m))"
   ]
  },
  {
   "cell_type": "code",
   "execution_count": 8,
   "metadata": {},
   "outputs": [
    {
     "name": "stdout",
     "output_type": "stream",
     "text": [
      "0.0 5.8696047859167075\n"
     ]
    }
   ],
   "source": [
    "# Check O2O matrix\n",
    "lmax = 18\n",
    "sph1_c = np.array([0, 0, 0], dtype=np.float64)\n",
    "sph1_r = 0.2\n",
    "sph2_c = np.array([0, 0, 0.2], dtype=np.float64)\n",
    "sph2_r = 0.4\n",
    "sph3_c = np.array([0, 0, 0], dtype=np.float64)\n",
    "sph3_r = 20000\n",
    "sph4_c = np.array([0, 0, 20000], dtype=np.float64)\n",
    "sph4_r = 40000\n",
    "o2o_mat1 = fmm_pcm.o2o_matrix(sph1_c-sph2_c, sph1_r, sph2_r, lmax)\n",
    "o2o_mat2 = fmm_pcm.o2o_matrix(sph3_c-sph4_c, sph3_r, sph4_r, lmax)\n",
    "print(np.linalg.norm(o2o_mat1-o2o_mat2), np.linalg.norm(o2o_mat1))\n",
    "#print(np.linalg.svd(o2o_mat)[1])"
   ]
  },
  {
   "cell_type": "code",
   "execution_count": null,
   "metadata": {},
   "outputs": [],
   "source": []
  }
 ],
 "metadata": {
  "kernelspec": {
   "display_name": "Python 3",
   "language": "python",
   "name": "python3"
  },
  "language_info": {
   "codemirror_mode": {
    "name": "ipython",
    "version": 3
   },
   "file_extension": ".py",
   "mimetype": "text/x-python",
   "name": "python",
   "nbconvert_exporter": "python",
   "pygments_lexer": "ipython3",
   "version": "3.7.3"
  }
 },
 "nbformat": 4,
 "nbformat_minor": 2
}
