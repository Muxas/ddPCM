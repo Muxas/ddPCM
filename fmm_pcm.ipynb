{
 "cells": [
  {
   "cell_type": "code",
   "execution_count": 1,
   "metadata": {},
   "outputs": [],
   "source": [
    "import numpy as np\n",
    "from mydx import mydx, fmm_pcm\n",
    "#mydx.init()\n",
    "#nbasis, ngrid, nsph = mydx.get_sizes()\n",
    "#lmax = int(nbasis**0.5)-1\n",
    "#print(nbasis, lmax, ngrid)"
   ]
  },
  {
   "cell_type": "code",
   "execution_count": 2,
   "metadata": {
    "scrolled": false
   },
   "outputs": [
    {
     "name": "stdout",
     "output_type": "stream",
     "text": [
      "0.3127313958110473 0.31234752377721214\n",
      "0.3126262395925993 0.31234752377721214\n",
      "0.3127313958110473 0.31234752377721214\n",
      "0.3126262395925993 0.31234752377721214\n"
     ]
    }
   ],
   "source": [
    "# COMPLEX\n",
    "lmax = 2\n",
    "sph1_c = np.array([0.0, 0, 0])\n",
    "sph1_r = 1\n",
    "sph2_c = np.array([.0, 0, 0.5])\n",
    "sph2_r = 1\n",
    "src1 = np.array([0.0, 0.5, 0.0])\n",
    "dst1 = np.array([2., 2., 2.])\n",
    "coef1_m = fmm_pcm.p2m_complex(src1-sph1_c, lmax)\n",
    "coef2_m = fmm_pcm.p2m_complex(src1-sph2_c, lmax)\n",
    "print(fmm_pcm.m2p_complex(dst1-sph1_c, lmax, coef1_m), np.linalg.norm(src1-dst1)**-1)\n",
    "print(fmm_pcm.m2p_complex(dst1-sph2_c, lmax, coef2_m), np.linalg.norm(src1-dst1)**-1)\n",
    "coef1_m_normal = fmm_pcm.p2m_complex_normal(src1-sph1_c, lmax)\n",
    "coef2_m_normal = fmm_pcm.p2m_complex_normal(src1-sph2_c, lmax)\n",
    "print(fmm_pcm.m2p_complex_normal(dst1-sph1_c, lmax, coef1_m_normal), np.linalg.norm(src1-dst1)**-1)\n",
    "print(fmm_pcm.m2p_complex_normal(dst1-sph2_c, lmax, coef2_m_normal), np.linalg.norm(src1-dst1)**-1)"
   ]
  },
  {
   "cell_type": "code",
   "execution_count": 3,
   "metadata": {},
   "outputs": [
    {
     "name": "stdout",
     "output_type": "stream",
     "text": [
      "0.3254722774521031 0.32547227745205964\n",
      "0.32525817347924185 0.32547227745205964\n",
      "0.3254722774521031 0.32547227745205964\n",
      "0.3252581734792418 0.32547227745205964\n"
     ]
    }
   ],
   "source": [
    "# REAL\n",
    "lmax = 17\n",
    "sph1_c = np.array([0.0, 0, 0])\n",
    "sph1_r = 1\n",
    "sph2_c = np.array([1.0, 1, 1])\n",
    "sph2_r = 1\n",
    "src1 = np.array([0.0, 0.8, 0.0])\n",
    "dst1 = np.array([2., 2., 2.])\n",
    "coef1_m = fmm_pcm.p2m_real(src1-sph1_c, lmax)\n",
    "coef2_m = fmm_pcm.p2m_real(src1-sph2_c, lmax)\n",
    "print(fmm_pcm.m2p_real(dst1-sph1_c, lmax, coef1_m), np.linalg.norm(src1-dst1)**-1)\n",
    "print(fmm_pcm.m2p_real(dst1-sph2_c, lmax, coef2_m), np.linalg.norm(src1-dst1)**-1)\n",
    "coef1_m_normal = fmm_pcm.p2m_real_normal(src1-sph1_c, lmax)\n",
    "coef2_m_normal = fmm_pcm.p2m_real_normal(src1-sph2_c, lmax)\n",
    "print(fmm_pcm.m2p_real_normal(dst1-sph1_c, lmax, coef1_m_normal), np.linalg.norm(src1-dst1)**-1)\n",
    "print(fmm_pcm.m2p_real_normal(dst1-sph2_c, lmax, coef2_m_normal), np.linalg.norm(src1-dst1)**-1)\n",
    "#coef2_m_m2m = fmm_pcm.m2m_complex_translate_z(sph1_c[2]-sph2_c[2], lmax, coef1_m)\n",
    "#print(coef1_m)\n",
    "#print(coef2_m)\n",
    "#print(coef2_m_m2m)\n",
    "#print(fmm_pcm.m2p_complex_normal(dst1-sph2_c, lmax, coef2_m_m2m), np.linalg.norm(src1-dst1)**-1)"
   ]
  },
  {
   "cell_type": "code",
   "execution_count": 4,
   "metadata": {},
   "outputs": [
    {
     "name": "stdout",
     "output_type": "stream",
     "text": [
      "0.3254722774520597 0.32547227745205964\n",
      "0.3254718954621216 0.32547227745205964\n"
     ]
    }
   ],
   "source": [
    "# Normalized real spherical harmonics\n",
    "lmax = 60\n",
    "sph1_c = np.array([0.0, 0, 0])\n",
    "sph1_r = 1.5\n",
    "sph2_c = np.array([1.0, 1, 1])\n",
    "sph2_r = 2*3**0.5 + 1.5\n",
    "src1 = np.array([0.0, 0.8, 0.0])\n",
    "dst1 = np.array([2., 2., 2.])\n",
    "coef1_m = fmm_pcm.p2o(src1-sph1_c, sph1_r, lmax)\n",
    "coef2_m = fmm_pcm.p2o(src1-sph2_c, sph2_r, lmax)\n",
    "print(fmm_pcm.o2p(dst1-sph1_c, sph1_r, lmax, coef1_m), np.linalg.norm(src1-dst1)**-1)\n",
    "print(fmm_pcm.o2p(dst1-sph2_c, sph2_r, lmax, coef2_m), np.linalg.norm(src1-dst1)**-1)"
   ]
  },
  {
   "cell_type": "code",
   "execution_count": 5,
   "metadata": {},
   "outputs": [
    {
     "name": "stdout",
     "output_type": "stream",
     "text": [
      "3.7070462957000125e-14\n",
      "0.57282196186948 -0.8660254037844352\n",
      "[ 0.28209479 -0.04753238  0.11625866  0.20954164 -0.04558156 -0.02528973\n",
      " -0.02527926  0.11148719  0.09530098 -0.03112826]\n",
      "[ 0.28209479 -0.02376619 -0.18617192  0.10477082 -0.01139539  0.02024897\n",
      "  0.07633132 -0.08926554  0.02382524 -0.00389103]\n",
      "[ 0.28209479 -0.02376619 -0.08291806  0.10477082 -0.01139539  0.01425969\n",
      "  0.00607455 -0.0628624   0.02382524 -0.00389103]\n",
      "0.35970890107288467\n"
     ]
    }
   ],
   "source": [
    "# Compute M2M matrix by using P2M and M2P\n",
    "lmax = 20\n",
    "nparticles = 4000\n",
    "sph1_c = np.array([0, 0, 0], dtype=np.float64)\n",
    "sph1_r = 2\n",
    "sph2_c = np.array([0, 0, 2], dtype=np.float64)\n",
    "sph2_r = 4\n",
    "particles = np.zeros((nparticles, 3), dtype=np.float64)\n",
    "mat1 = np.zeros((nparticles, (lmax+1)**2), dtype=np.float64)\n",
    "mat2 = np.zeros((nparticles, (lmax+1)**2), dtype=np.float64)\n",
    "np.random.seed(0)\n",
    "for i in range(nparticles):\n",
    "    tmp = np.random.randn(3)\n",
    "    tmp = tmp / np.linalg.norm(tmp)\n",
    "    particles[i] = sph1_c + 0.5 * sph1_r * tmp\n",
    "    mat1[i] = fmm_pcm.p2o(particles[i]-sph1_c, sph1_r, lmax)\n",
    "    mat2[i] = fmm_pcm.p2o(particles[i]-sph2_c, sph2_r, lmax)\n",
    "q, r = np.linalg.qr(mat1)\n",
    "#print(r)\n",
    "m2m = np.linalg.solve(r, q.T @ mat2).T\n",
    "print(np.linalg.norm(m2m @ mat1[0] - mat2[0]) / np.linalg.norm(mat2[0]))\n",
    "#print(m2m)\n",
    "print(np.max(m2m[1:]), np.min(m2m))\n",
    "mat3 = fmm_pcm.o2o_baseline(sph1_c-sph2_c, sph1_r, sph2_r, lmax, mat1[0])\n",
    "#print(m2m[10,0])\n",
    "print(mat1[0][:10])\n",
    "print(mat2[0][:10])\n",
    "print(mat3[:10])\n",
    "print(np.linalg.norm(mat3-mat2[0]) / np.linalg.norm(mat2[0]))"
   ]
  },
  {
   "cell_type": "code",
   "execution_count": 10,
   "metadata": {},
   "outputs": [
    {
     "name": "stdout",
     "output_type": "stream",
     "text": [
      "-0.028082980867088936\n"
     ]
    }
   ],
   "source": [
    "x0 = -4.7532375840547543E-002 * 1.4142135623730951 * 0.70710678118654746 / 2 * 0.28209479177387814 / -0.48860251190291992\n",
    "print(x0 / -0.48860251190291992)"
   ]
  },
  {
   "cell_type": "code",
   "execution_count": null,
   "metadata": {},
   "outputs": [],
   "source": []
  }
 ],
 "metadata": {
  "kernelspec": {
   "display_name": "Python 3",
   "language": "python",
   "name": "python3"
  },
  "language_info": {
   "codemirror_mode": {
    "name": "ipython",
    "version": 3
   },
   "file_extension": ".py",
   "mimetype": "text/x-python",
   "name": "python",
   "nbconvert_exporter": "python",
   "pygments_lexer": "ipython3",
   "version": "3.7.3"
  }
 },
 "nbformat": 4,
 "nbformat_minor": 2
}
