{
 "cells": [
  {
   "cell_type": "code",
   "execution_count": 1,
   "metadata": {},
   "outputs": [],
   "source": [
    "import numpy as np\n",
    "from mydx import mydx, fmm_pcm\n",
    "#mydx.init()\n",
    "#nbasis, ngrid, nsph = mydx.get_sizes()\n",
    "#lmax = int(nbasis**0.5)-1\n",
    "#print(nbasis, lmax, ngrid)"
   ]
  },
  {
   "cell_type": "code",
   "execution_count": 12,
   "metadata": {
    "scrolled": false
   },
   "outputs": [
    {
     "name": "stdout",
     "output_type": "stream",
     "text": [
      "0.3127313958110473 0.31234752377721214\n",
      "0.3126262395925993 0.31234752377721214\n",
      "0.3127313958110473 0.31234752377721214\n",
      "0.3126262395925993 0.31234752377721214\n",
      "[ 1.        +0.j          0.        +0.35355339j  0.        +0.j\n",
      "  0.        -0.35355339j -0.15309311+0.j          0.        +0.j\n",
      " -0.125     +0.j          0.        -0.j         -0.15309311-0.j        ]\n",
      "[ 1.        +0.j          0.        +0.35355339j -0.5       +0.j\n",
      "  0.        -0.35355339j -0.15309311+0.j         -0.        -0.30618622j\n",
      "  0.125     +0.j         -0.        +0.30618622j -0.15309311-0.j        ]\n",
      "[ 1.        +0.j          0.        +0.35355339j -0.5       +0.j\n",
      "  0.        -0.35355339j -0.15309311+0.j          0.        -0.1767767j\n",
      "  0.        +0.j          0.        +0.1767767j  -0.15309311+0.j        ]\n",
      "1.116712476398384 0.31234752377721214\n"
     ]
    }
   ],
   "source": [
    "# COMPLEX\n",
    "lmax = 2\n",
    "sph1_c = np.array([0.0, 0, 0])\n",
    "sph1_r = 1\n",
    "sph2_c = np.array([.0, 0, 0.5])\n",
    "sph2_r = 1\n",
    "src1 = np.array([0.0, 0.5, 0.0])\n",
    "dst1 = np.array([2., 2., 2.])\n",
    "coef1_m = fmm_pcm.p2m_complex(src1-sph1_c, lmax)\n",
    "coef2_m = fmm_pcm.p2m_complex(src1-sph2_c, lmax)\n",
    "print(fmm_pcm.m2p_complex(dst1-sph1_c, lmax, coef1_m), np.linalg.norm(src1-dst1)**-1)\n",
    "print(fmm_pcm.m2p_complex(dst1-sph2_c, lmax, coef2_m), np.linalg.norm(src1-dst1)**-1)\n",
    "coef1_m_normal = fmm_pcm.p2m_complex_normal(src1-sph1_c, lmax)\n",
    "coef2_m_normal = fmm_pcm.p2m_complex_normal(src1-sph2_c, lmax)\n",
    "print(fmm_pcm.m2p_complex_normal(dst1-sph1_c, lmax, coef1_m_normal), np.linalg.norm(src1-dst1)**-1)\n",
    "print(fmm_pcm.m2p_complex_normal(dst1-sph2_c, lmax, coef2_m_normal), np.linalg.norm(src1-dst1)**-1)\n",
    "coef2_m_m2m = fmm_pcm.m2m_complex_translate_z(sph1_c[2]-sph2_c[2], lmax, coef1_m)\n",
    "print(coef1_m)\n",
    "print(coef2_m)\n",
    "print(coef2_m_m2m)\n",
    "print(fmm_pcm.m2p_complex_normal(dst1-sph2_c, lmax, coef2_m_m2m), np.linalg.norm(src1-dst1)**-1)"
   ]
  },
  {
   "cell_type": "code",
   "execution_count": 3,
   "metadata": {},
   "outputs": [
    {
     "name": "stdout",
     "output_type": "stream",
     "text": [
      "0.3940552031225244 0.39405520311955033\n",
      "0.4874241876694154 0.39405520311955033\n"
     ]
    }
   ],
   "source": [
    "# REAL\n",
    "lmax = 17\n",
    "sph1_c = np.array([0.0, 0, 0])\n",
    "sph1_r = 1\n",
    "sph2_c = np.array([1.0, 1, 1])\n",
    "sph2_r = 1\n",
    "src1 = np.array([0.0, 0.8, 0.0])\n",
    "dst1 = np.array([1., 2., 2.])\n",
    "coef1_m = fmm_pcm.p2m_real(src1-sph1_c, lmax)\n",
    "coef2_m = fmm_pcm.p2m_real(src1-sph2_c, lmax)\n",
    "#print(coef1_m)#, coef2_m)\n",
    "#print(coef1_m.dtype, sph1_c.dtype)\n",
    "print(fmm_pcm.m2p_real(dst1-sph1_c, lmax, coef1_m), np.linalg.norm(src1-dst1)**-1)\n",
    "print(fmm_pcm.m2p_real(dst1-sph2_c, lmax, coef2_m), np.linalg.norm(src1-dst1)**-1)"
   ]
  },
  {
   "cell_type": "code",
   "execution_count": 7,
   "metadata": {},
   "outputs": [
    {
     "data": {
      "text/plain": [
       "5.4444444444444455"
      ]
     },
     "execution_count": 7,
     "metadata": {},
     "output_type": "execute_result"
    }
   ],
   "source": [
    "(0.875 / 0.375)**2"
   ]
  },
  {
   "cell_type": "code",
   "execution_count": null,
   "metadata": {},
   "outputs": [],
   "source": []
  }
 ],
 "metadata": {
  "kernelspec": {
   "display_name": "Python 3",
   "language": "python",
   "name": "python3"
  },
  "language_info": {
   "codemirror_mode": {
    "name": "ipython",
    "version": 3
   },
   "file_extension": ".py",
   "mimetype": "text/x-python",
   "name": "python",
   "nbconvert_exporter": "python",
   "pygments_lexer": "ipython3",
   "version": "3.7.3"
  }
 },
 "nbformat": 4,
 "nbformat_minor": 2
}
