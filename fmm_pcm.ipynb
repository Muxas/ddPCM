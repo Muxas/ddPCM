{
 "cells": [
  {
   "cell_type": "code",
   "execution_count": 1,
   "metadata": {},
   "outputs": [],
   "source": [
    "import numpy as np\n",
    "from mydx import mydx, fmm_pcm\n",
    "#mydx.init()\n",
    "#nbasis, ngrid, nsph = mydx.get_sizes()\n",
    "#lmax = int(nbasis**0.5)-1\n",
    "#print(nbasis, lmax, ngrid)"
   ]
  },
  {
   "cell_type": "code",
   "execution_count": 2,
   "metadata": {
    "scrolled": false
   },
   "outputs": [
    {
     "name": "stdout",
     "output_type": "stream",
     "text": [
      "0.3127313958110473 0.31234752377721214\n",
      "0.3126262395925993 0.31234752377721214\n",
      "0.3127313958110473 0.31234752377721214\n",
      "0.3126262395925993 0.31234752377721214\n"
     ]
    }
   ],
   "source": [
    "# COMPLEX\n",
    "lmax = 2\n",
    "sph1_c = np.array([0.0, 0, 0])\n",
    "sph1_r = 1\n",
    "sph2_c = np.array([.0, 0, 0.5])\n",
    "sph2_r = 1\n",
    "src1 = np.array([0.0, 0.5, 0.0])\n",
    "dst1 = np.array([2., 2., 2.])\n",
    "coef1_m = fmm_pcm.p2m_complex(src1-sph1_c, lmax)\n",
    "coef2_m = fmm_pcm.p2m_complex(src1-sph2_c, lmax)\n",
    "print(fmm_pcm.m2p_complex(dst1-sph1_c, lmax, coef1_m), np.linalg.norm(src1-dst1)**-1)\n",
    "print(fmm_pcm.m2p_complex(dst1-sph2_c, lmax, coef2_m), np.linalg.norm(src1-dst1)**-1)\n",
    "coef1_m_normal = fmm_pcm.p2m_complex_normal(src1-sph1_c, lmax)\n",
    "coef2_m_normal = fmm_pcm.p2m_complex_normal(src1-sph2_c, lmax)\n",
    "print(fmm_pcm.m2p_complex_normal(dst1-sph1_c, lmax, coef1_m_normal), np.linalg.norm(src1-dst1)**-1)\n",
    "print(fmm_pcm.m2p_complex_normal(dst1-sph2_c, lmax, coef2_m_normal), np.linalg.norm(src1-dst1)**-1)"
   ]
  },
  {
   "cell_type": "code",
   "execution_count": 3,
   "metadata": {},
   "outputs": [
    {
     "name": "stdout",
     "output_type": "stream",
     "text": [
      "0.3254722774521031 0.32547227745205964\n",
      "0.32525817347924185 0.32547227745205964\n",
      "0.3254722774521031 0.32547227745205964\n",
      "0.3252581734792418 0.32547227745205964\n"
     ]
    }
   ],
   "source": [
    "# REAL\n",
    "lmax = 17\n",
    "sph1_c = np.array([0.0, 0, 0])\n",
    "sph1_r = 1\n",
    "sph2_c = np.array([1.0, 1, 1])\n",
    "sph2_r = 1\n",
    "src1 = np.array([0.0, 0.8, 0.0])\n",
    "dst1 = np.array([2., 2., 2.])\n",
    "coef1_m = fmm_pcm.p2m_real(src1-sph1_c, lmax)\n",
    "coef2_m = fmm_pcm.p2m_real(src1-sph2_c, lmax)\n",
    "print(fmm_pcm.m2p_real(dst1-sph1_c, lmax, coef1_m), np.linalg.norm(src1-dst1)**-1)\n",
    "print(fmm_pcm.m2p_real(dst1-sph2_c, lmax, coef2_m), np.linalg.norm(src1-dst1)**-1)\n",
    "coef1_m_normal = fmm_pcm.p2m_real_normal(src1-sph1_c, lmax)\n",
    "coef2_m_normal = fmm_pcm.p2m_real_normal(src1-sph2_c, lmax)\n",
    "print(fmm_pcm.m2p_real_normal(dst1-sph1_c, lmax, coef1_m_normal), np.linalg.norm(src1-dst1)**-1)\n",
    "print(fmm_pcm.m2p_real_normal(dst1-sph2_c, lmax, coef2_m_normal), np.linalg.norm(src1-dst1)**-1)\n",
    "#coef2_m_m2m = fmm_pcm.m2m_complex_translate_z(sph1_c[2]-sph2_c[2], lmax, coef1_m)\n",
    "#print(coef1_m)\n",
    "#print(coef2_m)\n",
    "#print(coef2_m_m2m)\n",
    "#print(fmm_pcm.m2p_complex_normal(dst1-sph2_c, lmax, coef2_m_m2m), np.linalg.norm(src1-dst1)**-1)"
   ]
  },
  {
   "cell_type": "code",
   "execution_count": 4,
   "metadata": {},
   "outputs": [
    {
     "name": "stdout",
     "output_type": "stream",
     "text": [
      "0.3254722774520597 0.32547227745205964\n",
      "0.3254718954621216 0.32547227745205964\n"
     ]
    }
   ],
   "source": [
    "# Normalized real spherical harmonics\n",
    "lmax = 60\n",
    "sph1_c = np.array([0.0, 0, 0])\n",
    "sph1_r = 1.5\n",
    "sph2_c = np.array([1.0, 1, 1])\n",
    "sph2_r = 2*3**0.5 + 1.5\n",
    "src1 = np.array([0.0, 0.8, 0.0])\n",
    "dst1 = np.array([2., 2., 2.])\n",
    "coef1_m = fmm_pcm.p2o(src1-sph1_c, sph1_r, lmax)\n",
    "coef2_m = fmm_pcm.p2o(src1-sph2_c, sph2_r, lmax)\n",
    "print(fmm_pcm.o2p(dst1-sph1_c, sph1_r, lmax, coef1_m), np.linalg.norm(src1-dst1)**-1)\n",
    "print(fmm_pcm.o2p(dst1-sph2_c, sph2_r, lmax, coef2_m), np.linalg.norm(src1-dst1)**-1)"
   ]
  },
  {
   "cell_type": "code",
   "execution_count": 7,
   "metadata": {},
   "outputs": [
    {
     "name": "stdout",
     "output_type": "stream",
     "text": [
      "35.82311917903217\n",
      "(9.152107628309846e+25+1.90714770298832e+25j) (-3.964049478124946e+26+4.946005865703125e+25j)\n",
      "[  1.          +0.j           6.06498385  +1.37577947j\n",
      "   4.75882376  +0.j           6.06498385  -1.37577947j\n",
      "  42.73289161 +20.43873904j  49.99077818 +11.33989606j\n",
      " -16.0303946   +0.j          49.99077818 -11.33989606j\n",
      "  42.73289161 -20.43873904j 298.29085106+235.93137483j]\n",
      "[ 1.00000000e+00   +0.j          6.06498385e+00  -12.76635615j\n",
      "  4.75882376e+00   +0.j          6.06498385e+00  +12.76635615j\n",
      " -1.54557684e+02 -189.65846432j  4.99907782e+01 -105.22700387j\n",
      " -1.77117475e+02   +0.j          4.99907782e+01 +105.22700387j\n",
      " -1.54557684e+02 +189.65846432j -4.33598218e+03+1062.3114551j ]\n",
      "[ 1.00000000e+00   +0.j          6.06498385e+00  -12.76635615j\n",
      "  4.75882376e+00   +0.j          6.06498385e+00  +12.76635615j\n",
      " -1.54557684e+02 -189.65846432j  4.99907782e+01 -105.22700387j\n",
      " -1.77117475e+02   +0.j          4.99907782e+01 +105.22700387j\n",
      " -1.54557684e+02 +189.65846432j -4.33598218e+03+1062.3114551j ]\n",
      "1.561674348210952e-13\n"
     ]
    }
   ],
   "source": [
    "# Compute M2M matrix by using P2M and M2P\n",
    "lmax = 20\n",
    "nparticles = 4000\n",
    "sph1_c = np.array([0, 0, 0], dtype=np.float64)\n",
    "sph1_r = 20\n",
    "sph2_c = np.array([0, 20, 0], dtype=np.float64)\n",
    "sph2_r = 40\n",
    "particles = np.zeros((nparticles, 3), dtype=np.float64)\n",
    "mat1 = np.zeros((nparticles, (lmax+1)**2), dtype=np.complex128)\n",
    "mat2 = np.zeros((nparticles, (lmax+1)**2), dtype=np.complex128)\n",
    "np.random.seed(0)\n",
    "for i in range(nparticles):\n",
    "    tmp = np.random.randn(3)\n",
    "    tmp = tmp / np.linalg.norm(tmp)\n",
    "    particles[i] = sph1_c + 0.5 * sph1_r * tmp\n",
    "    mat1[i] = fmm_pcm.p2m_complex(particles[i]-sph1_c, lmax)\n",
    "    mat2[i] = fmm_pcm.p2m_complex(particles[i]-sph2_c, lmax)\n",
    "q, r = np.linalg.qr(mat1)\n",
    "#print(r)\n",
    "m2m = np.linalg.solve(r, q.T @ mat2).T\n",
    "print(np.linalg.norm(m2m @ mat1[0] - mat2[0]) / np.linalg.norm(mat2[0]))\n",
    "#print(m2m)\n",
    "print(np.max(m2m[1:]), np.min(m2m))\n",
    "mat3 = fmm_pcm.m2m_baseline(sph1_c-sph2_c, lmax, mat1[0])\n",
    "#print(m2m[10,0])\n",
    "print(mat1[0][:10])\n",
    "print(mat2[0][:10])\n",
    "print(mat3[:10])\n",
    "print(np.linalg.norm(mat3-mat2[0]) / np.linalg.norm(mat2[0]))"
   ]
  },
  {
   "cell_type": "code",
   "execution_count": 14,
   "metadata": {},
   "outputs": [
    {
     "name": "stdout",
     "output_type": "stream",
     "text": [
      "5.632702144529819e-16\n",
      "0.8660254037844388 -0.5590169943749475\n",
      "[ 0.28209479 -0.04753238  0.11625866  0.20954164 -0.04558156 -0.02528973\n",
      " -0.02527926  0.11148719  0.09530098]\n",
      "[ 0.28209479  0.22053507  0.05812933  0.10477082  0.10574195  0.05866814\n",
      " -0.0698267   0.0278718  -0.0861719 ]\n",
      "[ 0.28209479 -0.02376619  0.05812933  0.2775179  -0.68044193 -0.00632243\n",
      " -0.07431997  0.05440409  0.05763988]\n",
      "2.0751669398500905\n"
     ]
    }
   ],
   "source": [
    "# Compute M2M matrix by using P2M and M2P\n",
    "lmax = 2\n",
    "nparticles = 40\n",
    "sph1_c = np.array([0, 0, 0], dtype=np.float64)\n",
    "sph1_r = 2\n",
    "sph2_c = np.array([0, 2, 0], dtype=np.float64)\n",
    "sph2_r = 4\n",
    "particles = np.zeros((nparticles, 3), dtype=np.float64)\n",
    "mat1 = np.zeros((nparticles, (lmax+1)**2), dtype=np.float64)\n",
    "mat2 = np.zeros((nparticles, (lmax+1)**2), dtype=np.float64)\n",
    "np.random.seed(0)\n",
    "for i in range(nparticles):\n",
    "    tmp = np.random.randn(3)\n",
    "    tmp = tmp / np.linalg.norm(tmp)\n",
    "    particles[i] = sph1_c + 0.5 * sph1_r * tmp\n",
    "    mat1[i] = fmm_pcm.p2o(particles[i]-sph1_c, sph1_r, lmax)\n",
    "    mat2[i] = fmm_pcm.p2o(particles[i]-sph2_c, sph2_r, lmax)\n",
    "q, r = np.linalg.qr(mat1)\n",
    "#print(r)\n",
    "m2m = np.linalg.solve(r, q.T @ mat2).T\n",
    "print(np.linalg.norm(m2m @ mat1[0] - mat2[0]) / np.linalg.norm(mat2[0]))\n",
    "#print(m2m)\n",
    "print(np.max(m2m[1:]), np.min(m2m))\n",
    "mat3 = fmm_pcm.o2o_baseline(sph1_c-sph2_c, sph1_r, sph2_r, lmax, mat1[0])\n",
    "#print(m2m[10,0])\n",
    "print(mat1[0][:10])\n",
    "print(mat2[0][:10])\n",
    "print(mat3[:10])\n",
    "print(np.linalg.norm(mat3-mat2[0]) / np.linalg.norm(mat2[0]))"
   ]
  },
  {
   "cell_type": "code",
   "execution_count": 7,
   "metadata": {},
   "outputs": [
    {
     "name": "stdout",
     "output_type": "stream",
     "text": [
      "-0.02376618792027377\n"
     ]
    }
   ],
   "source": [
    "x = -4.7532375840547543E-002*1.4142135623730951*0.70710678118654746/2*2.0466534158929770*0.48860251190291992\n",
    "print(x)"
   ]
  },
  {
   "cell_type": "code",
   "execution_count": 12,
   "metadata": {},
   "outputs": [
    {
     "name": "stdout",
     "output_type": "stream",
     "text": [
      "0.5330690986592658 15312500861798.676\n"
     ]
    }
   ],
   "source": [
    "# CHECK O2O (scaled M2M)\n",
    "lmax = 10\n",
    "sph1_c = np.array([0, 0, 0], dtype=np.float64)\n",
    "sph1_r = 2\n",
    "sph2_c = np.array([0, 2, 0], dtype=np.float64)\n",
    "sph2_r = 4\n",
    "dst1 = np.array([4.2, 0., 2.])\n",
    "coef1_m = np.random.randn((lmax+1)**2)\n",
    "coef2_m = fmm_pcm.o2o_baseline(sph1_c-sph2_c, sph1_r, sph2_r, lmax, coef1_m)\n",
    "print(fmm_pcm.o2p(dst1-sph1_c, sph1_r, lmax, coef1_m), fmm_pcm.o2p(dst1-sph2_c, sph2_r, lmax, coef2_m))"
   ]
  },
  {
   "cell_type": "code",
   "execution_count": 10,
   "metadata": {},
   "outputs": [
    {
     "name": "stdout",
     "output_type": "stream",
     "text": [
      "0.0 5.8696047859167075\n"
     ]
    }
   ],
   "source": [
    "# Check O2O matrix\n",
    "lmax = 18\n",
    "sph1_c = np.array([0, 0, 0], dtype=np.float64)\n",
    "sph1_r = 0.2\n",
    "sph2_c = np.array([0, 0, 0.2], dtype=np.float64)\n",
    "sph2_r = 0.4\n",
    "sph3_c = np.array([0, 0, 0], dtype=np.float64)\n",
    "sph3_r = 20000\n",
    "sph4_c = np.array([0, 0, 20000], dtype=np.float64)\n",
    "sph4_r = 40000\n",
    "o2o_mat1 = fmm_pcm.o2o_matrix(sph1_c-sph2_c, sph1_r, sph2_r, lmax)\n",
    "o2o_mat2 = fmm_pcm.o2o_matrix(sph3_c-sph4_c, sph3_r, sph4_r, lmax)\n",
    "print(np.linalg.norm(o2o_mat1-o2o_mat2), np.linalg.norm(o2o_mat1))\n",
    "#print(np.linalg.svd(o2o_mat)[1])"
   ]
  },
  {
   "cell_type": "code",
   "execution_count": null,
   "metadata": {},
   "outputs": [],
   "source": []
  }
 ],
 "metadata": {
  "kernelspec": {
   "display_name": "Python 3",
   "language": "python",
   "name": "python3"
  },
  "language_info": {
   "codemirror_mode": {
    "name": "ipython",
    "version": 3
   },
   "file_extension": ".py",
   "mimetype": "text/x-python",
   "name": "python",
   "nbconvert_exporter": "python",
   "pygments_lexer": "ipython3",
   "version": "3.7.3"
  }
 },
 "nbformat": 4,
 "nbformat_minor": 2
}
