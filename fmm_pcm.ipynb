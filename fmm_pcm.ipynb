{
 "cells": [
  {
   "cell_type": "code",
   "execution_count": 1,
   "metadata": {},
   "outputs": [],
   "source": [
    "import numpy as np\n",
    "from mydx import mydx, fmm_pcm\n",
    "#mydx.init()\n",
    "#nbasis, ngrid, nsph = mydx.get_sizes()\n",
    "#lmax = int(nbasis**0.5)-1\n",
    "#print(nbasis, lmax, ngrid)"
   ]
  },
  {
   "cell_type": "code",
   "execution_count": 2,
   "metadata": {
    "scrolled": false
   },
   "outputs": [
    {
     "name": "stdout",
     "output_type": "stream",
     "text": [
      "0.3127313958110473 0.31234752377721214\n",
      "0.3126262395925993 0.31234752377721214\n",
      "0.3127313958110473 0.31234752377721214\n",
      "0.3126262395925993 0.31234752377721214\n",
      "[ 1.        +0.j          0.        +0.35355339j  0.        +0.j\n",
      "  0.        -0.35355339j -0.15309311+0.j          0.        +0.j\n",
      " -0.125     +0.j          0.        -0.j         -0.15309311-0.j        ]\n",
      "[ 1.        +0.j          0.        +0.35355339j -0.5       +0.j\n",
      "  0.        -0.35355339j -0.15309311+0.j         -0.        -0.30618622j\n",
      "  0.125     +0.j         -0.        +0.30618622j -0.15309311-0.j        ]\n",
      "[ 1.        +0.j          0.        +0.35355339j -0.5       +0.j\n",
      "  0.        -0.35355339j -0.15309311+0.j          0.        -0.1767767j\n",
      "  0.        +0.j          0.        +0.1767767j  -0.15309311+0.j        ]\n",
      "1.116712476398384 0.31234752377721214\n"
     ]
    }
   ],
   "source": [
    "# COMPLEX\n",
    "lmax = 2\n",
    "sph1_c = np.array([0.0, 0, 0])\n",
    "sph1_r = 1\n",
    "sph2_c = np.array([.0, 0, 0.5])\n",
    "sph2_r = 1\n",
    "src1 = np.array([0.0, 0.5, 0.0])\n",
    "dst1 = np.array([2., 2., 2.])\n",
    "coef1_m = fmm_pcm.p2m_complex(src1-sph1_c, lmax)\n",
    "coef2_m = fmm_pcm.p2m_complex(src1-sph2_c, lmax)\n",
    "print(fmm_pcm.m2p_complex(dst1-sph1_c, lmax, coef1_m), np.linalg.norm(src1-dst1)**-1)\n",
    "print(fmm_pcm.m2p_complex(dst1-sph2_c, lmax, coef2_m), np.linalg.norm(src1-dst1)**-1)\n",
    "coef1_m_normal = fmm_pcm.p2m_complex_normal(src1-sph1_c, lmax)\n",
    "coef2_m_normal = fmm_pcm.p2m_complex_normal(src1-sph2_c, lmax)\n",
    "print(fmm_pcm.m2p_complex_normal(dst1-sph1_c, lmax, coef1_m_normal), np.linalg.norm(src1-dst1)**-1)\n",
    "print(fmm_pcm.m2p_complex_normal(dst1-sph2_c, lmax, coef2_m_normal), np.linalg.norm(src1-dst1)**-1)\n",
    "coef2_m_m2m = fmm_pcm.m2m_complex_translate_z(sph1_c[2]-sph2_c[2], lmax, coef1_m)\n",
    "print(coef1_m)\n",
    "print(coef2_m)\n",
    "print(coef2_m_m2m)\n",
    "print(fmm_pcm.m2p_complex_normal(dst1-sph2_c, lmax, coef2_m_m2m), np.linalg.norm(src1-dst1)**-1)"
   ]
  },
  {
   "cell_type": "code",
   "execution_count": 4,
   "metadata": {},
   "outputs": [
    {
     "name": "stdout",
     "output_type": "stream",
     "text": [
      "0.3254722774521031 0.32547227745205964\n",
      "0.32525817347924185 0.32547227745205964\n",
      "0.3254722774521031 0.32547227745205964\n",
      "0.3252581734792418 0.32547227745205964\n"
     ]
    }
   ],
   "source": [
    "# REAL\n",
    "lmax = 17\n",
    "sph1_c = np.array([0.0, 0, 0])\n",
    "sph1_r = 1\n",
    "sph2_c = np.array([1.0, 1, 1])\n",
    "sph2_r = 1\n",
    "src1 = np.array([0.0, 0.8, 0.0])\n",
    "dst1 = np.array([2., 2., 2.])\n",
    "coef1_m = fmm_pcm.p2m_real(src1-sph1_c, lmax)\n",
    "coef2_m = fmm_pcm.p2m_real(src1-sph2_c, lmax)\n",
    "print(fmm_pcm.m2p_real(dst1-sph1_c, lmax, coef1_m), np.linalg.norm(src1-dst1)**-1)\n",
    "print(fmm_pcm.m2p_real(dst1-sph2_c, lmax, coef2_m), np.linalg.norm(src1-dst1)**-1)\n",
    "coef1_m_normal = fmm_pcm.p2m_real_normal(src1-sph1_c, lmax)\n",
    "coef2_m_normal = fmm_pcm.p2m_real_normal(src1-sph2_c, lmax)\n",
    "print(fmm_pcm.m2p_real_normal(dst1-sph1_c, lmax, coef1_m_normal), np.linalg.norm(src1-dst1)**-1)\n",
    "print(fmm_pcm.m2p_real_normal(dst1-sph2_c, lmax, coef2_m_normal), np.linalg.norm(src1-dst1)**-1)\n",
    "#coef2_m_m2m = fmm_pcm.m2m_complex_translate_z(sph1_c[2]-sph2_c[2], lmax, coef1_m)\n",
    "#print(coef1_m)\n",
    "#print(coef2_m)\n",
    "#print(coef2_m_m2m)\n",
    "#print(fmm_pcm.m2p_complex_normal(dst1-sph2_c, lmax, coef2_m_m2m), np.linalg.norm(src1-dst1)**-1)"
   ]
  },
  {
   "cell_type": "code",
   "execution_count": 45,
   "metadata": {},
   "outputs": [
    {
     "name": "stdout",
     "output_type": "stream",
     "text": [
      "6.270042485324812e-13\n",
      "5.729090017670565e-13\n",
      "[[ 1.00000000e+00  0.00000000e+00  0.00000000e+00 ...  0.00000000e+00\n",
      "   0.00000000e+00  0.00000000e+00]\n",
      " [ 1.73205081e+00  1.00000000e+00  0.00000000e+00 ...  0.00000000e+00\n",
      "   0.00000000e+00  0.00000000e+00]\n",
      " [-1.73205081e+00 -1.68616714e-16  1.00000000e+00 ...  0.00000000e+00\n",
      "   0.00000000e+00  0.00000000e+00]\n",
      " ...\n",
      " [-7.56897054e-11 -2.19908476e+05  6.44237818e-11 ...  1.00004674e+00\n",
      "   0.00000000e+00  0.00000000e+00]\n",
      " [-1.03825705e+04 -1.13893217e+05  5.99437985e+03 ...  3.98367879e-05\n",
      "   9.99963723e-01  0.00000000e+00]\n",
      " [-3.28325706e+03 -1.89558935e+04 -9.60148887e-12 ...  7.46396523e-06\n",
      "  -4.26637865e-06  1.00000407e+00]]\n"
     ]
    }
   ],
   "source": [
    "# Compute M2M matrix by using P2M and M2P\n",
    "lmax = 20\n",
    "nparticles = 4000\n",
    "sph1_c = np.array([0, 0, 0], dtype=np.float64)\n",
    "sph1_r = 1\n",
    "sph2_c = np.array([1.0, 1, 1], dtype=np.float64)\n",
    "sph2_r = 1\n",
    "particles = np.zeros((nparticles, 3), dtype=np.float64)\n",
    "mat1 = np.zeros((nparticles, (lmax+1)**2), dtype=np.float64)\n",
    "mat2 = np.zeros((nparticles, (lmax+1)**2), dtype=np.float64)\n",
    "for i in range(nparticles):\n",
    "    tmp = np.random.randn(3)\n",
    "    tmp = tmp / np.linalg.norm(tmp)\n",
    "    particles[i] = sph1_c + 0.5 * sph1_r * tmp\n",
    "    mat1[i] = fmm_pcm.p2m_real_normal(particles[i] - sph1_c, lmax)\n",
    "    mat2[i] = fmm_pcm.p2m_real_normal(particles[i] - sph2_c, lmax)\n",
    "q, r = np.linalg.qr(mat1)\n",
    "#print(r)\n",
    "m2m = np.linalg.solve(r, q.T @ mat2).T\n",
    "print(np.linalg.norm(m2m @ mat1[0] - mat2[0]) / np.linalg.norm(mat2[0]))\n",
    "for i in range(m2m.shape[0]):\n",
    "    m2m[i, i+1:] = 0\n",
    "#print(m2m)\n",
    "print(np.linalg.norm(m2m @ mat1[0] - mat2[0]) / np.linalg.norm(mat2[0]))\n",
    "print(m2m)"
   ]
  },
  {
   "cell_type": "code",
   "execution_count": null,
   "metadata": {},
   "outputs": [],
   "source": []
  }
 ],
 "metadata": {
  "kernelspec": {
   "display_name": "Python 3",
   "language": "python",
   "name": "python3"
  },
  "language_info": {
   "codemirror_mode": {
    "name": "ipython",
    "version": 3
   },
   "file_extension": ".py",
   "mimetype": "text/x-python",
   "name": "python",
   "nbconvert_exporter": "python",
   "pygments_lexer": "ipython3",
   "version": "3.7.3"
  }
 },
 "nbformat": 4,
 "nbformat_minor": 2
}
